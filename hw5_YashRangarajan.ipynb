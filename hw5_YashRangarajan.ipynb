{
 "cells": [
  {
   "cell_type": "markdown",
   "metadata": {},
   "source": [
    "### Import the relevant packages "
   ]
  },
  {
   "cell_type": "code",
   "execution_count": 104,
   "metadata": {},
   "outputs": [],
   "source": [
    "import numpy as np \n",
    "import pandas as pd \n",
    "import matplotlib.pyplot as plt\n",
    "import seaborn as sns\n",
    "import random\n",
    "from tabulate import tabulate\n",
    "\n",
    "from sklearn.preprocessing import OneHotEncoder\n",
    "from sklearn.preprocessing import LabelEncoder\n",
    "from sklearn.linear_model import LogisticRegression\n",
    "from sklearn.metrics import accuracy_score, recall_score, precision_score, confusion_matrix\n",
    "from sklearn.model_selection import train_test_split, GridSearchCV\n",
    "from sklearn.metrics import roc_curve, auc\n",
    "from sklearn.metrics import make_scorer\n",
    "from sklearn.metrics import confusion_matrix,plot_confusion_matrix\n",
    "from sklearn.pipeline import Pipeline\n",
    "from sklearn.preprocessing import StandardScaler\n",
    "from sklearn import decomposition\n",
    "from sklearn import tree"
   ]
  },
  {
   "cell_type": "code",
   "execution_count": 3,
   "metadata": {},
   "outputs": [],
   "source": [
    "train_data = pd.read_csv('train_data.csv',index_col=0)\n",
    "test_data = pd.read_csv('test_data.csv',index_col=0)\n",
    "train_data.index = range(len(train_data))\n",
    "train_data.loc[train_data['OCCUPATION']!=1,'OCCUPATION'] = 0\n",
    "test_data.index = range(len(test_data))\n",
    "test_data.loc[test_data['OCCUPATION']!=1,'OCCUPATION'] = 0"
   ]
  },
  {
   "cell_type": "markdown",
   "metadata": {},
   "source": [
    "## Prepping data"
   ]
  },
  {
   "cell_type": "code",
   "execution_count": 4,
   "metadata": {},
   "outputs": [],
   "source": [
    "# first, we list all the categorical variables to be one hot encoded\n",
    "cat_vars = ['MARRIAGE', 'EDUCATION']"
   ]
  },
  {
   "cell_type": "code",
   "execution_count": 5,
   "metadata": {},
   "outputs": [],
   "source": [
    "# create an encoder for each cat_vars\n",
    "encoders = [OneHotEncoder(categories='auto') for _ in range(len(cat_vars))] \n",
    "# encode each of the cat_vars with their respective encoder\n",
    "encoded_tr = [encoders[i].fit_transform(train_data[[cat_var]]).todense() for i,cat_var in enumerate(cat_vars)]\n",
    "encoded_test = [encoders[i].fit_transform(test_data[[cat_var]]).todense() for i,cat_var in enumerate(cat_vars)]"
   ]
  },
  {
   "cell_type": "code",
   "execution_count": 6,
   "metadata": {},
   "outputs": [],
   "source": [
    "# drop the label column and also drop the cat_vars \n",
    "# this way we can combine the encoded categorical variables with the continuous variables \n",
    "X_train = pd.concat([train_data.iloc[:,:-1].drop(cat_vars, axis=1), \n",
    "                     pd.DataFrame(np.concatenate(encoded_tr, axis=1))], axis=1)\n",
    "X_test = pd.concat([test_data.iloc[:,:-1].drop(cat_vars, axis=1), \n",
    "                    pd.DataFrame(np.concatenate(encoded_test, axis=1))], axis=1)\n",
    "y_train = train_data.iloc[:,-1] \n",
    "y_test = test_data.iloc[:,-1]\n",
    "X_train = X_train.rename(columns={0:'Marriage 1',1:'Marriage 2',2:'Marriage 3',3:'Edu 1',4:'Edu 2',5:'Edu 3',\n",
    "                                  6:'Edu 4',7:'Edu 5',8:'Edu 6',9:'Edu 7'})\n",
    "# Note that in the testing data, we do not have Marriage 3 and Edu 6\n",
    "X_test = X_test.rename(columns={0:'Marriage 1',1:'Marriage 2',2:'Edu 1',3:'Edu 2',4:'Edu 3',\n",
    "                                  5:'Edu 4',6:'Edu 5',7:'Edu 7'})"
   ]
  },
  {
   "cell_type": "markdown",
   "metadata": {},
   "source": [
    "### Normalize continuous features. Note that for the testing data, we still use the mean and standard deviation from the training data to do the normalization.¶"
   ]
  },
  {
   "cell_type": "code",
   "execution_count": 7,
   "metadata": {},
   "outputs": [],
   "source": [
    "for i in [0,1,2,3,4,5,8]:\n",
    "    X1 = X_train.iloc[:,i]\n",
    "    mean = X1.mean()\n",
    "    std = X1.std()\n",
    "    X_train.iloc[:,i] = (X1-mean)/std\n",
    "    X_test.iloc[:,i] = (X_test.iloc[:,i]-mean)/std"
   ]
  },
  {
   "cell_type": "code",
   "execution_count": 8,
   "metadata": {},
   "outputs": [
    {
     "data": {
      "text/html": [
       "<div>\n",
       "<style scoped>\n",
       "    .dataframe tbody tr th:only-of-type {\n",
       "        vertical-align: middle;\n",
       "    }\n",
       "\n",
       "    .dataframe tbody tr th {\n",
       "        vertical-align: top;\n",
       "    }\n",
       "\n",
       "    .dataframe thead th {\n",
       "        text-align: right;\n",
       "    }\n",
       "</style>\n",
       "<table border=\"1\" class=\"dataframe\">\n",
       "  <thead>\n",
       "    <tr style=\"text-align: right;\">\n",
       "      <th></th>\n",
       "      <th>DEBT</th>\n",
       "      <th>YRS_IN_RESIDENT</th>\n",
       "      <th>AGE</th>\n",
       "      <th>YRS_OF_EMPLOYMENT</th>\n",
       "      <th>DTI</th>\n",
       "      <th>NUM_PREV_APP</th>\n",
       "      <th>OCCUPATION</th>\n",
       "      <th>PROVIDED_SIN</th>\n",
       "      <th>INCOME</th>\n",
       "      <th>CREDIT_PROFILE</th>\n",
       "      <th>Marriage 1</th>\n",
       "      <th>Marriage 2</th>\n",
       "      <th>Marriage 3</th>\n",
       "      <th>Edu 1</th>\n",
       "      <th>Edu 2</th>\n",
       "      <th>Edu 3</th>\n",
       "      <th>Edu 4</th>\n",
       "      <th>Edu 5</th>\n",
       "      <th>Edu 6</th>\n",
       "      <th>Edu 7</th>\n",
       "    </tr>\n",
       "  </thead>\n",
       "  <tbody>\n",
       "    <tr>\n",
       "      <th>0</th>\n",
       "      <td>0.835945</td>\n",
       "      <td>-0.686741</td>\n",
       "      <td>-1.085931</td>\n",
       "      <td>-0.642788</td>\n",
       "      <td>-0.074637</td>\n",
       "      <td>-0.555121</td>\n",
       "      <td>0</td>\n",
       "      <td>1</td>\n",
       "      <td>1.530698</td>\n",
       "      <td>1</td>\n",
       "      <td>1.0</td>\n",
       "      <td>0.0</td>\n",
       "      <td>0.0</td>\n",
       "      <td>0.0</td>\n",
       "      <td>0.0</td>\n",
       "      <td>0.0</td>\n",
       "      <td>1.0</td>\n",
       "      <td>0.0</td>\n",
       "      <td>0.0</td>\n",
       "      <td>0.0</td>\n",
       "    </tr>\n",
       "    <tr>\n",
       "      <th>1</th>\n",
       "      <td>1.294264</td>\n",
       "      <td>-1.364851</td>\n",
       "      <td>1.314706</td>\n",
       "      <td>-0.095677</td>\n",
       "      <td>-0.630176</td>\n",
       "      <td>-0.555121</td>\n",
       "      <td>1</td>\n",
       "      <td>1</td>\n",
       "      <td>-0.109336</td>\n",
       "      <td>1</td>\n",
       "      <td>0.0</td>\n",
       "      <td>1.0</td>\n",
       "      <td>0.0</td>\n",
       "      <td>0.0</td>\n",
       "      <td>0.0</td>\n",
       "      <td>0.0</td>\n",
       "      <td>1.0</td>\n",
       "      <td>0.0</td>\n",
       "      <td>0.0</td>\n",
       "      <td>0.0</td>\n",
       "    </tr>\n",
       "    <tr>\n",
       "      <th>2</th>\n",
       "      <td>0.072081</td>\n",
       "      <td>-1.025796</td>\n",
       "      <td>0.238559</td>\n",
       "      <td>-0.045939</td>\n",
       "      <td>1.036440</td>\n",
       "      <td>-0.555121</td>\n",
       "      <td>1</td>\n",
       "      <td>1</td>\n",
       "      <td>1.804037</td>\n",
       "      <td>0</td>\n",
       "      <td>0.0</td>\n",
       "      <td>1.0</td>\n",
       "      <td>0.0</td>\n",
       "      <td>0.0</td>\n",
       "      <td>0.0</td>\n",
       "      <td>0.0</td>\n",
       "      <td>0.0</td>\n",
       "      <td>0.0</td>\n",
       "      <td>0.0</td>\n",
       "      <td>1.0</td>\n",
       "    </tr>\n",
       "    <tr>\n",
       "      <th>3</th>\n",
       "      <td>-0.233465</td>\n",
       "      <td>-0.347686</td>\n",
       "      <td>-1.003150</td>\n",
       "      <td>-0.841738</td>\n",
       "      <td>-0.667212</td>\n",
       "      <td>0.153818</td>\n",
       "      <td>0</td>\n",
       "      <td>1</td>\n",
       "      <td>-1.749370</td>\n",
       "      <td>0</td>\n",
       "      <td>0.0</td>\n",
       "      <td>1.0</td>\n",
       "      <td>0.0</td>\n",
       "      <td>1.0</td>\n",
       "      <td>0.0</td>\n",
       "      <td>0.0</td>\n",
       "      <td>0.0</td>\n",
       "      <td>0.0</td>\n",
       "      <td>0.0</td>\n",
       "      <td>0.0</td>\n",
       "    </tr>\n",
       "    <tr>\n",
       "      <th>4</th>\n",
       "      <td>-0.309851</td>\n",
       "      <td>1.008535</td>\n",
       "      <td>1.066364</td>\n",
       "      <td>0.451435</td>\n",
       "      <td>-0.185745</td>\n",
       "      <td>-0.555121</td>\n",
       "      <td>0</td>\n",
       "      <td>1</td>\n",
       "      <td>0.164003</td>\n",
       "      <td>0</td>\n",
       "      <td>1.0</td>\n",
       "      <td>0.0</td>\n",
       "      <td>0.0</td>\n",
       "      <td>0.0</td>\n",
       "      <td>0.0</td>\n",
       "      <td>0.0</td>\n",
       "      <td>1.0</td>\n",
       "      <td>0.0</td>\n",
       "      <td>0.0</td>\n",
       "      <td>0.0</td>\n",
       "    </tr>\n",
       "  </tbody>\n",
       "</table>\n",
       "</div>"
      ],
      "text/plain": [
       "       DEBT  YRS_IN_RESIDENT       AGE  YRS_OF_EMPLOYMENT       DTI  \\\n",
       "0  0.835945        -0.686741 -1.085931          -0.642788 -0.074637   \n",
       "1  1.294264        -1.364851  1.314706          -0.095677 -0.630176   \n",
       "2  0.072081        -1.025796  0.238559          -0.045939  1.036440   \n",
       "3 -0.233465        -0.347686 -1.003150          -0.841738 -0.667212   \n",
       "4 -0.309851         1.008535  1.066364           0.451435 -0.185745   \n",
       "\n",
       "   NUM_PREV_APP  OCCUPATION  PROVIDED_SIN    INCOME  CREDIT_PROFILE  \\\n",
       "0     -0.555121           0             1  1.530698               1   \n",
       "1     -0.555121           1             1 -0.109336               1   \n",
       "2     -0.555121           1             1  1.804037               0   \n",
       "3      0.153818           0             1 -1.749370               0   \n",
       "4     -0.555121           0             1  0.164003               0   \n",
       "\n",
       "   Marriage 1  Marriage 2  Marriage 3  Edu 1  Edu 2  Edu 3  Edu 4  Edu 5  \\\n",
       "0         1.0         0.0         0.0    0.0    0.0    0.0    1.0    0.0   \n",
       "1         0.0         1.0         0.0    0.0    0.0    0.0    1.0    0.0   \n",
       "2         0.0         1.0         0.0    0.0    0.0    0.0    0.0    0.0   \n",
       "3         0.0         1.0         0.0    1.0    0.0    0.0    0.0    0.0   \n",
       "4         1.0         0.0         0.0    0.0    0.0    0.0    1.0    0.0   \n",
       "\n",
       "   Edu 6  Edu 7  \n",
       "0    0.0    0.0  \n",
       "1    0.0    0.0  \n",
       "2    0.0    1.0  \n",
       "3    0.0    0.0  \n",
       "4    0.0    0.0  "
      ]
     },
     "execution_count": 8,
     "metadata": {},
     "output_type": "execute_result"
    }
   ],
   "source": [
    "X_train.head()"
   ]
  },
  {
   "cell_type": "code",
   "execution_count": 9,
   "metadata": {},
   "outputs": [
    {
     "data": {
      "text/html": [
       "<div>\n",
       "<style scoped>\n",
       "    .dataframe tbody tr th:only-of-type {\n",
       "        vertical-align: middle;\n",
       "    }\n",
       "\n",
       "    .dataframe tbody tr th {\n",
       "        vertical-align: top;\n",
       "    }\n",
       "\n",
       "    .dataframe thead th {\n",
       "        text-align: right;\n",
       "    }\n",
       "</style>\n",
       "<table border=\"1\" class=\"dataframe\">\n",
       "  <thead>\n",
       "    <tr style=\"text-align: right;\">\n",
       "      <th></th>\n",
       "      <th>DEBT</th>\n",
       "      <th>YRS_IN_RESIDENT</th>\n",
       "      <th>AGE</th>\n",
       "      <th>YRS_OF_EMPLOYMENT</th>\n",
       "      <th>DTI</th>\n",
       "      <th>NUM_PREV_APP</th>\n",
       "      <th>OCCUPATION</th>\n",
       "      <th>PROVIDED_SIN</th>\n",
       "      <th>INCOME</th>\n",
       "      <th>CREDIT_PROFILE</th>\n",
       "      <th>Marriage 1</th>\n",
       "      <th>Marriage 2</th>\n",
       "      <th>Edu 1</th>\n",
       "      <th>Edu 2</th>\n",
       "      <th>Edu 3</th>\n",
       "      <th>Edu 4</th>\n",
       "      <th>Edu 5</th>\n",
       "      <th>Edu 7</th>\n",
       "    </tr>\n",
       "  </thead>\n",
       "  <tbody>\n",
       "    <tr>\n",
       "      <th>0</th>\n",
       "      <td>-0.233465</td>\n",
       "      <td>-1.364851</td>\n",
       "      <td>-0.672028</td>\n",
       "      <td>0.351960</td>\n",
       "      <td>0.962368</td>\n",
       "      <td>-0.555121</td>\n",
       "      <td>1</td>\n",
       "      <td>1</td>\n",
       "      <td>-1.476031</td>\n",
       "      <td>1</td>\n",
       "      <td>1.0</td>\n",
       "      <td>0.0</td>\n",
       "      <td>0.0</td>\n",
       "      <td>0.0</td>\n",
       "      <td>0.0</td>\n",
       "      <td>1.0</td>\n",
       "      <td>0.0</td>\n",
       "      <td>0.0</td>\n",
       "    </tr>\n",
       "    <tr>\n",
       "      <th>1</th>\n",
       "      <td>0.683172</td>\n",
       "      <td>-0.008630</td>\n",
       "      <td>0.735242</td>\n",
       "      <td>0.053536</td>\n",
       "      <td>0.814224</td>\n",
       "      <td>0.862758</td>\n",
       "      <td>1</td>\n",
       "      <td>1</td>\n",
       "      <td>0.984020</td>\n",
       "      <td>1</td>\n",
       "      <td>0.0</td>\n",
       "      <td>1.0</td>\n",
       "      <td>0.0</td>\n",
       "      <td>0.0</td>\n",
       "      <td>0.0</td>\n",
       "      <td>0.0</td>\n",
       "      <td>0.0</td>\n",
       "      <td>1.0</td>\n",
       "    </tr>\n",
       "    <tr>\n",
       "      <th>2</th>\n",
       "      <td>-0.309851</td>\n",
       "      <td>-0.347686</td>\n",
       "      <td>-1.168711</td>\n",
       "      <td>-0.941213</td>\n",
       "      <td>-0.667212</td>\n",
       "      <td>-0.555121</td>\n",
       "      <td>1</td>\n",
       "      <td>0</td>\n",
       "      <td>-0.656014</td>\n",
       "      <td>0</td>\n",
       "      <td>1.0</td>\n",
       "      <td>0.0</td>\n",
       "      <td>1.0</td>\n",
       "      <td>0.0</td>\n",
       "      <td>0.0</td>\n",
       "      <td>0.0</td>\n",
       "      <td>0.0</td>\n",
       "      <td>0.0</td>\n",
       "    </tr>\n",
       "    <tr>\n",
       "      <th>3</th>\n",
       "      <td>5.189971</td>\n",
       "      <td>1.008535</td>\n",
       "      <td>0.321339</td>\n",
       "      <td>-0.742263</td>\n",
       "      <td>-0.444997</td>\n",
       "      <td>0.390132</td>\n",
       "      <td>0</td>\n",
       "      <td>0</td>\n",
       "      <td>-0.382675</td>\n",
       "      <td>1</td>\n",
       "      <td>0.0</td>\n",
       "      <td>1.0</td>\n",
       "      <td>0.0</td>\n",
       "      <td>0.0</td>\n",
       "      <td>0.0</td>\n",
       "      <td>1.0</td>\n",
       "      <td>0.0</td>\n",
       "      <td>0.0</td>\n",
       "    </tr>\n",
       "    <tr>\n",
       "      <th>4</th>\n",
       "      <td>-0.157078</td>\n",
       "      <td>1.347590</td>\n",
       "      <td>0.486900</td>\n",
       "      <td>1.048284</td>\n",
       "      <td>0.073506</td>\n",
       "      <td>0.862758</td>\n",
       "      <td>0</td>\n",
       "      <td>1</td>\n",
       "      <td>1.804037</td>\n",
       "      <td>1</td>\n",
       "      <td>0.0</td>\n",
       "      <td>1.0</td>\n",
       "      <td>0.0</td>\n",
       "      <td>0.0</td>\n",
       "      <td>0.0</td>\n",
       "      <td>1.0</td>\n",
       "      <td>0.0</td>\n",
       "      <td>0.0</td>\n",
       "    </tr>\n",
       "  </tbody>\n",
       "</table>\n",
       "</div>"
      ],
      "text/plain": [
       "       DEBT  YRS_IN_RESIDENT       AGE  YRS_OF_EMPLOYMENT       DTI  \\\n",
       "0 -0.233465        -1.364851 -0.672028           0.351960  0.962368   \n",
       "1  0.683172        -0.008630  0.735242           0.053536  0.814224   \n",
       "2 -0.309851        -0.347686 -1.168711          -0.941213 -0.667212   \n",
       "3  5.189971         1.008535  0.321339          -0.742263 -0.444997   \n",
       "4 -0.157078         1.347590  0.486900           1.048284  0.073506   \n",
       "\n",
       "   NUM_PREV_APP  OCCUPATION  PROVIDED_SIN    INCOME  CREDIT_PROFILE  \\\n",
       "0     -0.555121           1             1 -1.476031               1   \n",
       "1      0.862758           1             1  0.984020               1   \n",
       "2     -0.555121           1             0 -0.656014               0   \n",
       "3      0.390132           0             0 -0.382675               1   \n",
       "4      0.862758           0             1  1.804037               1   \n",
       "\n",
       "   Marriage 1  Marriage 2  Edu 1  Edu 2  Edu 3  Edu 4  Edu 5  Edu 7  \n",
       "0         1.0         0.0    0.0    0.0    0.0    1.0    0.0    0.0  \n",
       "1         0.0         1.0    0.0    0.0    0.0    0.0    0.0    1.0  \n",
       "2         1.0         0.0    1.0    0.0    0.0    0.0    0.0    0.0  \n",
       "3         0.0         1.0    0.0    0.0    0.0    1.0    0.0    0.0  \n",
       "4         0.0         1.0    0.0    0.0    0.0    1.0    0.0    0.0  "
      ]
     },
     "execution_count": 9,
     "metadata": {},
     "output_type": "execute_result"
    }
   ],
   "source": [
    "X_test.head()"
   ]
  },
  {
   "cell_type": "code",
   "execution_count": 10,
   "metadata": {},
   "outputs": [],
   "source": [
    "# Get rid of some dummy variables to avoid perfect multicollinearity\n",
    "X_train = X_train.drop(['Marriage 3','Edu 6'], axis=1)"
   ]
  },
  {
   "cell_type": "code",
   "execution_count": 11,
   "metadata": {},
   "outputs": [
    {
     "data": {
      "text/html": [
       "<div>\n",
       "<style scoped>\n",
       "    .dataframe tbody tr th:only-of-type {\n",
       "        vertical-align: middle;\n",
       "    }\n",
       "\n",
       "    .dataframe tbody tr th {\n",
       "        vertical-align: top;\n",
       "    }\n",
       "\n",
       "    .dataframe thead th {\n",
       "        text-align: right;\n",
       "    }\n",
       "</style>\n",
       "<table border=\"1\" class=\"dataframe\">\n",
       "  <thead>\n",
       "    <tr style=\"text-align: right;\">\n",
       "      <th></th>\n",
       "      <th>DEBT</th>\n",
       "      <th>YRS_IN_RESIDENT</th>\n",
       "      <th>AGE</th>\n",
       "      <th>YRS_OF_EMPLOYMENT</th>\n",
       "      <th>DTI</th>\n",
       "      <th>NUM_PREV_APP</th>\n",
       "      <th>OCCUPATION</th>\n",
       "      <th>PROVIDED_SIN</th>\n",
       "      <th>INCOME</th>\n",
       "      <th>CREDIT_PROFILE</th>\n",
       "      <th>Marriage 1</th>\n",
       "      <th>Marriage 2</th>\n",
       "      <th>Edu 1</th>\n",
       "      <th>Edu 2</th>\n",
       "      <th>Edu 3</th>\n",
       "      <th>Edu 4</th>\n",
       "      <th>Edu 5</th>\n",
       "      <th>Edu 7</th>\n",
       "    </tr>\n",
       "  </thead>\n",
       "  <tbody>\n",
       "    <tr>\n",
       "      <th>0</th>\n",
       "      <td>0.835945</td>\n",
       "      <td>-0.686741</td>\n",
       "      <td>-1.085931</td>\n",
       "      <td>-0.642788</td>\n",
       "      <td>-0.074637</td>\n",
       "      <td>-0.555121</td>\n",
       "      <td>0</td>\n",
       "      <td>1</td>\n",
       "      <td>1.530698</td>\n",
       "      <td>1</td>\n",
       "      <td>1.0</td>\n",
       "      <td>0.0</td>\n",
       "      <td>0.0</td>\n",
       "      <td>0.0</td>\n",
       "      <td>0.0</td>\n",
       "      <td>1.0</td>\n",
       "      <td>0.0</td>\n",
       "      <td>0.0</td>\n",
       "    </tr>\n",
       "    <tr>\n",
       "      <th>1</th>\n",
       "      <td>1.294264</td>\n",
       "      <td>-1.364851</td>\n",
       "      <td>1.314706</td>\n",
       "      <td>-0.095677</td>\n",
       "      <td>-0.630176</td>\n",
       "      <td>-0.555121</td>\n",
       "      <td>1</td>\n",
       "      <td>1</td>\n",
       "      <td>-0.109336</td>\n",
       "      <td>1</td>\n",
       "      <td>0.0</td>\n",
       "      <td>1.0</td>\n",
       "      <td>0.0</td>\n",
       "      <td>0.0</td>\n",
       "      <td>0.0</td>\n",
       "      <td>1.0</td>\n",
       "      <td>0.0</td>\n",
       "      <td>0.0</td>\n",
       "    </tr>\n",
       "    <tr>\n",
       "      <th>2</th>\n",
       "      <td>0.072081</td>\n",
       "      <td>-1.025796</td>\n",
       "      <td>0.238559</td>\n",
       "      <td>-0.045939</td>\n",
       "      <td>1.036440</td>\n",
       "      <td>-0.555121</td>\n",
       "      <td>1</td>\n",
       "      <td>1</td>\n",
       "      <td>1.804037</td>\n",
       "      <td>0</td>\n",
       "      <td>0.0</td>\n",
       "      <td>1.0</td>\n",
       "      <td>0.0</td>\n",
       "      <td>0.0</td>\n",
       "      <td>0.0</td>\n",
       "      <td>0.0</td>\n",
       "      <td>0.0</td>\n",
       "      <td>1.0</td>\n",
       "    </tr>\n",
       "    <tr>\n",
       "      <th>3</th>\n",
       "      <td>-0.233465</td>\n",
       "      <td>-0.347686</td>\n",
       "      <td>-1.003150</td>\n",
       "      <td>-0.841738</td>\n",
       "      <td>-0.667212</td>\n",
       "      <td>0.153818</td>\n",
       "      <td>0</td>\n",
       "      <td>1</td>\n",
       "      <td>-1.749370</td>\n",
       "      <td>0</td>\n",
       "      <td>0.0</td>\n",
       "      <td>1.0</td>\n",
       "      <td>1.0</td>\n",
       "      <td>0.0</td>\n",
       "      <td>0.0</td>\n",
       "      <td>0.0</td>\n",
       "      <td>0.0</td>\n",
       "      <td>0.0</td>\n",
       "    </tr>\n",
       "    <tr>\n",
       "      <th>4</th>\n",
       "      <td>-0.309851</td>\n",
       "      <td>1.008535</td>\n",
       "      <td>1.066364</td>\n",
       "      <td>0.451435</td>\n",
       "      <td>-0.185745</td>\n",
       "      <td>-0.555121</td>\n",
       "      <td>0</td>\n",
       "      <td>1</td>\n",
       "      <td>0.164003</td>\n",
       "      <td>0</td>\n",
       "      <td>1.0</td>\n",
       "      <td>0.0</td>\n",
       "      <td>0.0</td>\n",
       "      <td>0.0</td>\n",
       "      <td>0.0</td>\n",
       "      <td>1.0</td>\n",
       "      <td>0.0</td>\n",
       "      <td>0.0</td>\n",
       "    </tr>\n",
       "  </tbody>\n",
       "</table>\n",
       "</div>"
      ],
      "text/plain": [
       "       DEBT  YRS_IN_RESIDENT       AGE  YRS_OF_EMPLOYMENT       DTI  \\\n",
       "0  0.835945        -0.686741 -1.085931          -0.642788 -0.074637   \n",
       "1  1.294264        -1.364851  1.314706          -0.095677 -0.630176   \n",
       "2  0.072081        -1.025796  0.238559          -0.045939  1.036440   \n",
       "3 -0.233465        -0.347686 -1.003150          -0.841738 -0.667212   \n",
       "4 -0.309851         1.008535  1.066364           0.451435 -0.185745   \n",
       "\n",
       "   NUM_PREV_APP  OCCUPATION  PROVIDED_SIN    INCOME  CREDIT_PROFILE  \\\n",
       "0     -0.555121           0             1  1.530698               1   \n",
       "1     -0.555121           1             1 -0.109336               1   \n",
       "2     -0.555121           1             1  1.804037               0   \n",
       "3      0.153818           0             1 -1.749370               0   \n",
       "4     -0.555121           0             1  0.164003               0   \n",
       "\n",
       "   Marriage 1  Marriage 2  Edu 1  Edu 2  Edu 3  Edu 4  Edu 5  Edu 7  \n",
       "0         1.0         0.0    0.0    0.0    0.0    1.0    0.0    0.0  \n",
       "1         0.0         1.0    0.0    0.0    0.0    1.0    0.0    0.0  \n",
       "2         0.0         1.0    0.0    0.0    0.0    0.0    0.0    1.0  \n",
       "3         0.0         1.0    1.0    0.0    0.0    0.0    0.0    0.0  \n",
       "4         1.0         0.0    0.0    0.0    0.0    1.0    0.0    0.0  "
      ]
     },
     "execution_count": 11,
     "metadata": {},
     "output_type": "execute_result"
    }
   ],
   "source": [
    "X_train.head()"
   ]
  },
  {
   "cell_type": "code",
   "execution_count": 12,
   "metadata": {},
   "outputs": [
    {
     "data": {
      "text/html": [
       "<div>\n",
       "<style scoped>\n",
       "    .dataframe tbody tr th:only-of-type {\n",
       "        vertical-align: middle;\n",
       "    }\n",
       "\n",
       "    .dataframe tbody tr th {\n",
       "        vertical-align: top;\n",
       "    }\n",
       "\n",
       "    .dataframe thead th {\n",
       "        text-align: right;\n",
       "    }\n",
       "</style>\n",
       "<table border=\"1\" class=\"dataframe\">\n",
       "  <thead>\n",
       "    <tr style=\"text-align: right;\">\n",
       "      <th></th>\n",
       "      <th>DEBT</th>\n",
       "      <th>YRS_IN_RESIDENT</th>\n",
       "      <th>AGE</th>\n",
       "      <th>YRS_OF_EMPLOYMENT</th>\n",
       "      <th>DTI</th>\n",
       "      <th>NUM_PREV_APP</th>\n",
       "      <th>OCCUPATION</th>\n",
       "      <th>PROVIDED_SIN</th>\n",
       "      <th>INCOME</th>\n",
       "      <th>CREDIT_PROFILE</th>\n",
       "      <th>Marriage 1</th>\n",
       "      <th>Marriage 2</th>\n",
       "      <th>Edu 1</th>\n",
       "      <th>Edu 2</th>\n",
       "      <th>Edu 3</th>\n",
       "      <th>Edu 4</th>\n",
       "      <th>Edu 5</th>\n",
       "      <th>Edu 7</th>\n",
       "    </tr>\n",
       "  </thead>\n",
       "  <tbody>\n",
       "    <tr>\n",
       "      <th>0</th>\n",
       "      <td>-0.233465</td>\n",
       "      <td>-1.364851</td>\n",
       "      <td>-0.672028</td>\n",
       "      <td>0.351960</td>\n",
       "      <td>0.962368</td>\n",
       "      <td>-0.555121</td>\n",
       "      <td>1</td>\n",
       "      <td>1</td>\n",
       "      <td>-1.476031</td>\n",
       "      <td>1</td>\n",
       "      <td>1.0</td>\n",
       "      <td>0.0</td>\n",
       "      <td>0.0</td>\n",
       "      <td>0.0</td>\n",
       "      <td>0.0</td>\n",
       "      <td>1.0</td>\n",
       "      <td>0.0</td>\n",
       "      <td>0.0</td>\n",
       "    </tr>\n",
       "    <tr>\n",
       "      <th>1</th>\n",
       "      <td>0.683172</td>\n",
       "      <td>-0.008630</td>\n",
       "      <td>0.735242</td>\n",
       "      <td>0.053536</td>\n",
       "      <td>0.814224</td>\n",
       "      <td>0.862758</td>\n",
       "      <td>1</td>\n",
       "      <td>1</td>\n",
       "      <td>0.984020</td>\n",
       "      <td>1</td>\n",
       "      <td>0.0</td>\n",
       "      <td>1.0</td>\n",
       "      <td>0.0</td>\n",
       "      <td>0.0</td>\n",
       "      <td>0.0</td>\n",
       "      <td>0.0</td>\n",
       "      <td>0.0</td>\n",
       "      <td>1.0</td>\n",
       "    </tr>\n",
       "    <tr>\n",
       "      <th>2</th>\n",
       "      <td>-0.309851</td>\n",
       "      <td>-0.347686</td>\n",
       "      <td>-1.168711</td>\n",
       "      <td>-0.941213</td>\n",
       "      <td>-0.667212</td>\n",
       "      <td>-0.555121</td>\n",
       "      <td>1</td>\n",
       "      <td>0</td>\n",
       "      <td>-0.656014</td>\n",
       "      <td>0</td>\n",
       "      <td>1.0</td>\n",
       "      <td>0.0</td>\n",
       "      <td>1.0</td>\n",
       "      <td>0.0</td>\n",
       "      <td>0.0</td>\n",
       "      <td>0.0</td>\n",
       "      <td>0.0</td>\n",
       "      <td>0.0</td>\n",
       "    </tr>\n",
       "    <tr>\n",
       "      <th>3</th>\n",
       "      <td>5.189971</td>\n",
       "      <td>1.008535</td>\n",
       "      <td>0.321339</td>\n",
       "      <td>-0.742263</td>\n",
       "      <td>-0.444997</td>\n",
       "      <td>0.390132</td>\n",
       "      <td>0</td>\n",
       "      <td>0</td>\n",
       "      <td>-0.382675</td>\n",
       "      <td>1</td>\n",
       "      <td>0.0</td>\n",
       "      <td>1.0</td>\n",
       "      <td>0.0</td>\n",
       "      <td>0.0</td>\n",
       "      <td>0.0</td>\n",
       "      <td>1.0</td>\n",
       "      <td>0.0</td>\n",
       "      <td>0.0</td>\n",
       "    </tr>\n",
       "    <tr>\n",
       "      <th>4</th>\n",
       "      <td>-0.157078</td>\n",
       "      <td>1.347590</td>\n",
       "      <td>0.486900</td>\n",
       "      <td>1.048284</td>\n",
       "      <td>0.073506</td>\n",
       "      <td>0.862758</td>\n",
       "      <td>0</td>\n",
       "      <td>1</td>\n",
       "      <td>1.804037</td>\n",
       "      <td>1</td>\n",
       "      <td>0.0</td>\n",
       "      <td>1.0</td>\n",
       "      <td>0.0</td>\n",
       "      <td>0.0</td>\n",
       "      <td>0.0</td>\n",
       "      <td>1.0</td>\n",
       "      <td>0.0</td>\n",
       "      <td>0.0</td>\n",
       "    </tr>\n",
       "  </tbody>\n",
       "</table>\n",
       "</div>"
      ],
      "text/plain": [
       "       DEBT  YRS_IN_RESIDENT       AGE  YRS_OF_EMPLOYMENT       DTI  \\\n",
       "0 -0.233465        -1.364851 -0.672028           0.351960  0.962368   \n",
       "1  0.683172        -0.008630  0.735242           0.053536  0.814224   \n",
       "2 -0.309851        -0.347686 -1.168711          -0.941213 -0.667212   \n",
       "3  5.189971         1.008535  0.321339          -0.742263 -0.444997   \n",
       "4 -0.157078         1.347590  0.486900           1.048284  0.073506   \n",
       "\n",
       "   NUM_PREV_APP  OCCUPATION  PROVIDED_SIN    INCOME  CREDIT_PROFILE  \\\n",
       "0     -0.555121           1             1 -1.476031               1   \n",
       "1      0.862758           1             1  0.984020               1   \n",
       "2     -0.555121           1             0 -0.656014               0   \n",
       "3      0.390132           0             0 -0.382675               1   \n",
       "4      0.862758           0             1  1.804037               1   \n",
       "\n",
       "   Marriage 1  Marriage 2  Edu 1  Edu 2  Edu 3  Edu 4  Edu 5  Edu 7  \n",
       "0         1.0         0.0    0.0    0.0    0.0    1.0    0.0    0.0  \n",
       "1         0.0         1.0    0.0    0.0    0.0    0.0    0.0    1.0  \n",
       "2         1.0         0.0    1.0    0.0    0.0    0.0    0.0    0.0  \n",
       "3         0.0         1.0    0.0    0.0    0.0    1.0    0.0    0.0  \n",
       "4         0.0         1.0    0.0    0.0    0.0    1.0    0.0    0.0  "
      ]
     },
     "execution_count": 12,
     "metadata": {},
     "output_type": "execute_result"
    }
   ],
   "source": [
    "X_test.head()"
   ]
  },
  {
   "cell_type": "code",
   "execution_count": 13,
   "metadata": {},
   "outputs": [],
   "source": [
    "X_train.to_csv('train.csv')"
   ]
  },
  {
   "cell_type": "markdown",
   "metadata": {},
   "source": [
    "### Import a number of classifiers (feel free to include other classifiers) from sklearn.  <a href=\"https://xgboost.readthedocs.io/en/latest/index.html\" target=\"_blank\">XGBoost</a>  can be installed in Anaconda by using\n",
    "conda install -c anaconda py-xgboost"
   ]
  },
  {
   "cell_type": "code",
   "execution_count": 20,
   "metadata": {},
   "outputs": [],
   "source": [
    "from sklearn.discriminant_analysis import LinearDiscriminantAnalysis\n",
    "from sklearn.linear_model import LogisticRegression\n",
    "from sklearn.svm import LinearSVC\n",
    "from sklearn.neighbors import KNeighborsClassifier\n",
    "from sklearn.tree import DecisionTreeClassifier\n",
    "from sklearn.ensemble import RandomForestClassifier\n",
    "from sklearn.ensemble import GradientBoostingClassifier\n",
    "#from xgboost import XGBClassifier\n",
    "\n",
    "#List of models to train with\n",
    "models = []\n",
    "models.append(('Linaer Discriminant Analysis',LinearDiscriminantAnalysis()))\n",
    "models.append(('Logistic Regression',LogisticRegression()))\n",
    "models.append(('SVM',LinearSVC(max_iter=10000,dual=\"auto\")))\n",
    "models.append(('KNN',KNeighborsClassifier()))\n",
    "models.append(('DecisionTree',DecisionTreeClassifier(random_state=0)))\n",
    "models.append(('RandomForest',RandomForestClassifier(random_state=0)))\n",
    "models.append(('GradientBoost',GradientBoostingClassifier(random_state=0)))\n",
    "models.append(('XGBoost',XGBClassifier(random_state=0,objective='binary:logistic')))"
   ]
  },
  {
   "cell_type": "markdown",
   "metadata": {},
   "source": [
    "### Fitting various models using the data.   Here we use the default options for each classifier and fit the model using the training data and verify its performance on the testing data. "
   ]
  },
  {
   "cell_type": "code",
   "execution_count": 21,
   "metadata": {
    "scrolled": true
   },
   "outputs": [
    {
     "name": "stdout",
     "output_type": "stream",
     "text": [
      "Classifier: Linaer Discriminant Analysis\n",
      "Accuracy Score on Training Data = 0.8600\n",
      "Performance on Testing Data:\n",
      "Accuracy Score = 0.8714\n",
      "True Positive Rate = 0.8772\n",
      "True Negative Rate = 0.8675\n",
      "\n",
      "\n",
      "Classifier: Logistic Regression\n",
      "Accuracy Score on Training Data = 0.8691\n",
      "Performance on Testing Data:\n",
      "Accuracy Score = 0.8643\n",
      "True Positive Rate = 0.8596\n",
      "True Negative Rate = 0.8675\n",
      "\n",
      "\n",
      "Classifier: KNN\n",
      "Accuracy Score on Training Data = 0.8582\n",
      "Performance on Testing Data:\n",
      "Accuracy Score = 0.8643\n",
      "True Positive Rate = 0.7895\n",
      "True Negative Rate = 0.9157\n",
      "\n",
      "\n",
      "Classifier: DecisionTree\n",
      "Accuracy Score on Training Data = 1.0000\n",
      "Performance on Testing Data:\n",
      "Accuracy Score = 0.8786\n",
      "True Positive Rate = 0.8246\n",
      "True Negative Rate = 0.9157\n",
      "\n",
      "\n",
      "Classifier: RandomForest\n",
      "Accuracy Score on Training Data = 1.0000\n",
      "Performance on Testing Data:\n",
      "Accuracy Score = 0.8714\n",
      "True Positive Rate = 0.8421\n",
      "True Negative Rate = 0.8916\n",
      "\n",
      "\n",
      "Classifier: GradientBoost\n",
      "Accuracy Score on Training Data = 0.9582\n",
      "Performance on Testing Data:\n",
      "Accuracy Score = 0.8786\n",
      "True Positive Rate = 0.8596\n",
      "True Negative Rate = 0.8916\n",
      "\n",
      "\n"
     ]
    }
   ],
   "source": [
    "for classifier, model in models:\n",
    "    model.fit(X_train,y_train)\n",
    "    y_train_pred = model.predict(X_train)\n",
    "    y_test_pred = model.predict(X_test)\n",
    "    train_accuracy = accuracy_score(y_train,y_train_pred)\n",
    "    test_accuracy = accuracy_score(y_test,y_test_pred)\n",
    "    TN, FP, FN, TP = confusion_matrix(y_test,y_test_pred,sample_weight=None).ravel()\n",
    "    TPR = TP/(TP+FN)\n",
    "    TNR = TN/(TN+FP)\n",
    "    print(\"Classifier: {}\".format(classifier))    \n",
    "    print(\"Accuracy Score on Training Data = {:.4f}\".format(train_accuracy))    \n",
    "    print(\"Performance on Testing Data:\")\n",
    "    print(\"Accuracy Score = {:.4f}\".format(test_accuracy))    \n",
    "    print(\"True Positive Rate = {:.4f}\".format(TPR))\n",
    "    print(\"True Negative Rate = {:.4f}\".format(TNR))\n",
    "    print(\"\\n\")"
   ]
  },
  {
   "cell_type": "markdown",
   "metadata": {},
   "source": [
    "# There are two important decisions to be made.  One is that given a model, how you should choose the tuning parameters.  The other is given that you have multiple models, which one you should use."
   ]
  },
  {
   "cell_type": "markdown",
   "metadata": {},
   "source": [
    "### For the first question, one possibility is to use K-fold cross-validation with our custom score function to determine the best tuning parameters.  Here is an example that tunes the shrinkage parameter in the logistic regression.  Note that $C$ is the inverse of the regularization strength.  Smaller $C$ means stronger regularization."
   ]
  },
  {
   "cell_type": "code",
   "execution_count": 74,
   "metadata": {},
   "outputs": [],
   "source": [
    "testaccuracy =[]\n",
    "tpr_list =[]\n",
    "tnr_list =[]\n",
    "auc_list=[]"
   ]
  },
  {
   "cell_type": "code",
   "execution_count": 75,
   "metadata": {},
   "outputs": [
    {
     "name": "stdout",
     "output_type": "stream",
     "text": [
      "Best regularization parameter = 0.30\n",
      "Performance on Testing Data:\n",
      "Accuracy Score = 0.8786\n",
      "True Positive Rate = 0.8596\n",
      "True Negative Rate = 0.8916\n",
      "AUC = 0.9317\n"
     ]
    }
   ],
   "source": [
    "lgr_param_grid = {'C': np.linspace(0.1,10,100)}\n",
    "lgr = LogisticRegression(penalty='l2')\n",
    "clf_lgr = GridSearchCV(lgr, lgr_param_grid, cv=3)\n",
    "clf_lgr.fit(X_train, y_train.ravel())\n",
    "lgr_reg_params = clf_lgr.best_params_['C']\n",
    "print(\"Best regularization parameter = {:.2f}\".format(lgr_reg_params))\n",
    "lgr = LogisticRegression(penalty='l2',C=lgr_reg_params)\n",
    "lgr.fit(X_train,y_train)                                                       \n",
    "y_test_pred = lgr.predict(X_test)\n",
    "test_accuracy = accuracy_score(y_test, y_test_pred)\n",
    "TN, FP, FN, TP = confusion_matrix(y_test,y_test_pred,sample_weight=None).ravel()\n",
    "TPR = TP/(TP+FN)\n",
    "TNR = TN/(TN+FP)\n",
    "Q = lgr.predict_proba(X_test)[:,1]\n",
    "fpr, tpr, _ = roc_curve(y_test, Q)\n",
    "roc_auc = auc(fpr,tpr)    \n",
    "print(\"Performance on Testing Data:\")\n",
    "print(\"Accuracy Score = {:.4f}\".format(test_accuracy))    \n",
    "print(\"True Positive Rate = {:.4f}\".format(TPR))\n",
    "print(\"True Negative Rate = {:.4f}\".format(TNR))\n",
    "print(\"AUC = {:.4f}\".format(roc_auc))\n",
    "testaccuracy.append(test_accuracy)\n",
    "tpr_list.append(TPR)\n",
    "tnr_list.append(TNR)\n",
    "auc_list.append(roc_auc)"
   ]
  },
  {
   "cell_type": "markdown",
   "metadata": {},
   "source": [
    "### We could see the impact of different thresholds on the prediction of the logistic regression"
   ]
  },
  {
   "cell_type": "code",
   "execution_count": 76,
   "metadata": {},
   "outputs": [
    {
     "name": "stdout",
     "output_type": "stream",
     "text": [
      "   THRESHOLD  accuracy true positive rate true negative rate\n",
      "0        0.1  0.714286           0.929825           0.566265\n",
      "1        0.2  0.842857           0.912281           0.795181\n",
      "2        0.3  0.864286           0.877193           0.855422\n",
      "3        0.4  0.857143           0.859649           0.855422\n",
      "4        0.5  0.878571           0.859649           0.891566\n",
      "5        0.6  0.892857           0.842105           0.927711\n",
      "6        0.7  0.871429           0.754386           0.951807\n",
      "7        0.8  0.814286           0.561404           0.987952\n",
      "8        0.9  0.742857           0.368421                1.0\n"
     ]
    }
   ],
   "source": [
    "THRESHOLD = [0.1, 0.2, 0.3, 0.4, 0.5, 0.6, 0.7, 0.8, 0.9]\n",
    "results = pd.DataFrame(columns=[\"THRESHOLD\", \"accuracy\", \"true positive rate\", \"true negative rate\"]) # df to store results\n",
    "results['THRESHOLD'] = THRESHOLD                                                           # threshold column\n",
    "Q = lgr.predict_proba(X_test)[:,1]\n",
    "for i in range(9):                                                                         # iterate over each threshold    \n",
    "    preds = np.where(Q>THRESHOLD[i], 1, 0)                                                 # if prob > threshold, predict 1   \n",
    "    test_accuracy = accuracy_score(y_test,preds)\n",
    "    TN, FP, FN, TP = confusion_matrix(y_test,preds,sample_weight=None).ravel()\n",
    "    TPR = TP/(TP+FN)\n",
    "    TNR = TN/(TN+FP)\n",
    "    results.iloc[i,1] = test_accuracy \n",
    "    results.iloc[i,2] = TPR\n",
    "    results.iloc[i,3] = TNR\n",
    "print(results.to_string(header=True))"
   ]
  },
  {
   "cell_type": "code",
   "execution_count": 77,
   "metadata": {},
   "outputs": [
    {
     "name": "stderr",
     "output_type": "stream",
     "text": [
      "C:\\Anaconda3\\lib\\site-packages\\sklearn\\utils\\deprecation.py:87: FutureWarning: Function plot_confusion_matrix is deprecated; Function `plot_confusion_matrix` is deprecated in 1.0 and will be removed in 1.2. Use one of the class methods: ConfusionMatrixDisplay.from_predictions or ConfusionMatrixDisplay.from_estimator.\n",
      "  warnings.warn(msg, category=FutureWarning)\n"
     ]
    },
    {
     "data": {
      "text/plain": [
       "<sklearn.metrics._plot.confusion_matrix.ConfusionMatrixDisplay at 0x26b1042e250>"
      ]
     },
     "execution_count": 77,
     "metadata": {},
     "output_type": "execute_result"
    },
    {
     "data": {
      "image/png": "[encoded data removed]",
      "text/plain": [
       "<Figure size 432x288 with 2 Axes>"
      ]
     },
     "metadata": {
      "needs_background": "light"
     },
     "output_type": "display_data"
    }
   ],
   "source": [
    "plot_confusion_matrix(clf_lgr,X_train, y_train,values_format='d' )"
   ]
  },
  {
   "cell_type": "code",
   "execution_count": 78,
   "metadata": {},
   "outputs": [
    {
     "name": "stderr",
     "output_type": "stream",
     "text": [
      "C:\\Anaconda3\\lib\\site-packages\\sklearn\\utils\\deprecation.py:87: FutureWarning: Function plot_confusion_matrix is deprecated; Function `plot_confusion_matrix` is deprecated in 1.0 and will be removed in 1.2. Use one of the class methods: ConfusionMatrixDisplay.from_predictions or ConfusionMatrixDisplay.from_estimator.\n",
      "  warnings.warn(msg, category=FutureWarning)\n"
     ]
    },
    {
     "data": {
      "text/plain": [
       "<sklearn.metrics._plot.confusion_matrix.ConfusionMatrixDisplay at 0x26b13cb5c10>"
      ]
     },
     "execution_count": 78,
     "metadata": {},
     "output_type": "execute_result"
    },
    {
     "data": {
      "image/png": "[encoded data removed]",
      "text/plain": [
       "<Figure size 432x288 with 2 Axes>"
      ]
     },
     "metadata": {
      "needs_background": "light"
     },
     "output_type": "display_data"
    }
   ],
   "source": [
    "plot_confusion_matrix(clf_lgr,X_test, y_test,values_format='d' )"
   ]
  },
  {
   "cell_type": "markdown",
   "metadata": {},
   "source": [
    "### We now repeat the exercise with $L_1$ penalty"
   ]
  },
  {
   "cell_type": "code",
   "execution_count": 79,
   "metadata": {},
   "outputs": [
    {
     "name": "stdout",
     "output_type": "stream",
     "text": [
      "Best regularization parameter = 1.650\n",
      "Performance on Testing Data:\n",
      "Accuracy Score = 0.8571\n",
      "True Positive Rate = 0.8596\n",
      "True Negative Rate = 0.8554\n",
      "AUC = 0.9328\n"
     ]
    }
   ],
   "source": [
    "lgr_param_grid = {'C': np.linspace(0.05,5,100)}\n",
    "lgr = LogisticRegression(solver='liblinear',penalty='l1')\n",
    "clf_lgr = GridSearchCV(lgr, lgr_param_grid, cv=3)\n",
    "clf_lgr.fit(X_train, y_train.ravel())\n",
    "lgr_reg_params = clf_lgr.best_params_['C']\n",
    "print(\"Best regularization parameter = {:.3f}\".format(lgr_reg_params))\n",
    "lgr = LogisticRegression(solver='liblinear',penalty='l1',C=lgr_reg_params)\n",
    "lgr.fit(X_train,y_train)                                                       \n",
    "y_test_pred = lgr.predict(X_test)\n",
    "test_accuracy = accuracy_score(y_test, y_test_pred)\n",
    "TN, FP, FN, TP = confusion_matrix(y_test,y_test_pred,sample_weight=None).ravel()\n",
    "TPR = TP/(TP+FN)\n",
    "TNR = TN/(TN+FP)\n",
    "Q = lgr.predict_proba(X_test)[:,1]\n",
    "fpr, tpr, _ = roc_curve(y_test, Q)\n",
    "roc_auc = auc(fpr,tpr)    \n",
    "print(\"Performance on Testing Data:\")\n",
    "print(\"Accuracy Score = {:.4f}\".format(test_accuracy))    \n",
    "print(\"True Positive Rate = {:.4f}\".format(TPR))\n",
    "print(\"True Negative Rate = {:.4f}\".format(TNR))\n",
    "print(\"AUC = {:.4f}\".format(roc_auc))\n",
    "\n",
    "testaccuracy.append(test_accuracy)\n",
    "tpr_list.append(TPR)\n",
    "tnr_list.append(TNR)\n",
    "auc_list.append(roc_auc)"
   ]
  },
  {
   "cell_type": "code",
   "execution_count": 80,
   "metadata": {},
   "outputs": [
    {
     "name": "stdout",
     "output_type": "stream",
     "text": [
      "   THRESHOLD  accuracy true positive rate true negative rate\n",
      "0        0.1  0.778571           0.929825           0.674699\n",
      "1        0.2  0.864286           0.877193           0.855422\n",
      "2        0.3  0.864286           0.877193           0.855422\n",
      "3        0.4  0.857143           0.859649           0.855422\n",
      "4        0.5  0.857143           0.859649           0.855422\n",
      "5        0.6       0.9           0.859649           0.927711\n",
      "6        0.7  0.892857           0.789474           0.963855\n",
      "7        0.8  0.857143           0.701754           0.963855\n",
      "8        0.9      0.75           0.385965                1.0\n"
     ]
    }
   ],
   "source": [
    "THRESHOLD = [0.1, 0.2, 0.3, 0.4, 0.5, 0.6, 0.7, 0.8, 0.9]\n",
    "results = pd.DataFrame(columns=[\"THRESHOLD\", \"accuracy\", \"true positive rate\", \"true negative rate\"]) # df to store results\n",
    "results['THRESHOLD'] = THRESHOLD                                                           # threshold column\n",
    "Q = lgr.predict_proba(X_test)[:,1]                                        \n",
    "for i in range(9):                                                                         # iterate over each threshold    \n",
    "    preds = np.where(Q>THRESHOLD[i], 1, 0)                                                 # if prob > threshold, predict 1   \n",
    "    test_accuracy = accuracy_score(y_test,preds)\n",
    "    TN, FP, FN, TP = confusion_matrix(y_test,preds,sample_weight=None).ravel()\n",
    "    TPR = TP/(TP+FN)\n",
    "    TNR = TN/(TN+FP)\n",
    "    results.iloc[i,1] = test_accuracy \n",
    "    results.iloc[i,2] = TPR\n",
    "    results.iloc[i,3] = TNR\n",
    "print(results.to_string(header=True))\n"
   ]
  },
  {
   "cell_type": "code",
   "execution_count": 81,
   "metadata": {},
   "outputs": [
    {
     "name": "stderr",
     "output_type": "stream",
     "text": [
      "C:\\Anaconda3\\lib\\site-packages\\sklearn\\utils\\deprecation.py:87: FutureWarning: Function plot_confusion_matrix is deprecated; Function `plot_confusion_matrix` is deprecated in 1.0 and will be removed in 1.2. Use one of the class methods: ConfusionMatrixDisplay.from_predictions or ConfusionMatrixDisplay.from_estimator.\n",
      "  warnings.warn(msg, category=FutureWarning)\n"
     ]
    },
    {
     "data": {
      "text/plain": [
       "<sklearn.metrics._plot.confusion_matrix.ConfusionMatrixDisplay at 0x26b168bfaf0>"
      ]
     },
     "execution_count": 81,
     "metadata": {},
     "output_type": "execute_result"
    },
    {
     "data": {
      "image/png": "[encoded data removed]",
      "text/plain": [
       "<Figure size 432x288 with 2 Axes>"
      ]
     },
     "metadata": {
      "needs_background": "light"
     },
     "output_type": "display_data"
    }
   ],
   "source": [
    "plot_confusion_matrix(clf_lgr,X_train, y_train,values_format='d')"
   ]
  },
  {
   "cell_type": "code",
   "execution_count": 82,
   "metadata": {},
   "outputs": [
    {
     "name": "stderr",
     "output_type": "stream",
     "text": [
      "C:\\Anaconda3\\lib\\site-packages\\sklearn\\utils\\deprecation.py:87: FutureWarning: Function plot_confusion_matrix is deprecated; Function `plot_confusion_matrix` is deprecated in 1.0 and will be removed in 1.2. Use one of the class methods: ConfusionMatrixDisplay.from_predictions or ConfusionMatrixDisplay.from_estimator.\n",
      "  warnings.warn(msg, category=FutureWarning)\n"
     ]
    },
    {
     "data": {
      "text/plain": [
       "<sklearn.metrics._plot.confusion_matrix.ConfusionMatrixDisplay at 0x26b1691dca0>"
      ]
     },
     "execution_count": 82,
     "metadata": {},
     "output_type": "execute_result"
    },
    {
     "data": {
      "image/png": "[encoded data removed]",
      "text/plain": [
       "<Figure size 432x288 with 2 Axes>"
      ]
     },
     "metadata": {
      "needs_background": "light"
     },
     "output_type": "display_data"
    }
   ],
   "source": [
    "plot_confusion_matrix(clf_lgr,X_test, y_test,values_format='d')"
   ]
  },
  {
   "cell_type": "markdown",
   "metadata": {},
   "source": [
    "### You would need to come up with a strategy to select the best model, and provide your final recommended model in the last part of the notebook."
   ]
  },
  {
   "cell_type": "markdown",
   "metadata": {},
   "source": [
    "## KNN Classifier"
   ]
  },
  {
   "cell_type": "code",
   "execution_count": 83,
   "metadata": {},
   "outputs": [
    {
     "name": "stdout",
     "output_type": "stream",
     "text": [
      "Fitting 3 folds for each of 60 candidates, totalling 180 fits\n",
      "{'n_neighbors': 8, 'weights': 'distance'}\n",
      "Accuracy Score for our training dataset with tuning is 0.8273\n"
     ]
    }
   ],
   "source": [
    "k_range = list(range(1, 31))\n",
    "weight_options = ['uniform', 'distance']\n",
    "knn = KNeighborsClassifier()\n",
    "param_grid = dict(n_neighbors=k_range, weights=weight_options)\n",
    "# defining parameter range\n",
    "grid = GridSearchCV(knn, param_grid, cv=3, scoring='accuracy', return_train_score=False,verbose=1)\n",
    "# fitting the model for grid search\n",
    "grid_search=grid.fit(X_train, y_train.ravel())\n",
    "print(grid_search.best_params_)\n",
    "accuracy = grid_search.best_score_\n",
    "print(\"Accuracy Score for our training dataset with tuning is {:.4f}\".format(accuracy) )"
   ]
  },
  {
   "cell_type": "code",
   "execution_count": 84,
   "metadata": {},
   "outputs": [
    {
     "name": "stdout",
     "output_type": "stream",
     "text": [
      "Performance on Testing Data:\n",
      "Accuracy Score = 0.8643\n",
      "True Positive Rate = 0.7895\n",
      "True Negative Rate = 0.9157\n",
      "AUC = 0.9222\n"
     ]
    }
   ],
   "source": [
    "knn = KNeighborsClassifier(n_neighbors=20, weights='distance')\n",
    "knn.fit(X_train, y_train)\n",
    "y_test_hat=knn.predict(X_test)\n",
    "test_accuracy=accuracy_score(y_test,y_test_hat)\n",
    "TN, FP, FN, TP = confusion_matrix(y_test,y_test_hat,sample_weight=None).ravel()\n",
    "TPR = TP/(TP+FN) #precision\n",
    "TNR = TN/(TN+FP) #recall\n",
    "Q = knn.predict_proba(X_test)[:,1]\n",
    "fpr, tpr, _ = roc_curve(y_test, Q)\n",
    "roc_auc = auc(fpr,tpr)\n",
    "print(\"Performance on Testing Data:\")\n",
    "print(\"Accuracy Score = {:.4f}\".format(test_accuracy))\n",
    "print(\"True Positive Rate = {:.4f}\".format(TPR))\n",
    "print(\"True Negative Rate = {:.4f}\".format(TNR))\n",
    "print(\"AUC = {:.4f}\".format(roc_auc))\n",
    "testaccuracy.append(test_accuracy)\n",
    "tpr_list.append(TPR)\n",
    "tnr_list.append(TNR)\n",
    "auc_list.append(roc_auc)"
   ]
  },
  {
   "cell_type": "code",
   "execution_count": 85,
   "metadata": {},
   "outputs": [
    {
     "name": "stdout",
     "output_type": "stream",
     "text": [
      "   THRESHOLD  accuracy true positive rate true negative rate\n",
      "0        0.1  0.778571           0.929825           0.674699\n",
      "1        0.2  0.864286           0.877193           0.855422\n",
      "2        0.3  0.864286           0.877193           0.855422\n",
      "3        0.4  0.857143           0.859649           0.855422\n",
      "4        0.5  0.857143           0.859649           0.855422\n",
      "5        0.6       0.9           0.859649           0.927711\n",
      "6        0.7  0.892857           0.789474           0.963855\n",
      "7        0.8  0.857143           0.701754           0.963855\n",
      "8        0.9      0.75           0.385965                1.0\n"
     ]
    }
   ],
   "source": [
    "THRESHOLD = [0.1, 0.2, 0.3, 0.4, 0.5, 0.6, 0.7, 0.8, 0.9]\n",
    "results = pd.DataFrame(columns=[\"THRESHOLD\", \"accuracy\", \"true positive rate\", \"true negative rate\"]) # df to store result\n",
    "results['THRESHOLD'] = THRESHOLD # threshold column\n",
    "Q = lgr.predict_proba(X_test)[:,1]\n",
    "for i in range(9): # iterate over each thres\n",
    "    preds = np.where(Q>THRESHOLD[i], 1, 0) # if prob > threshold, predi\n",
    "    test_accuracy = accuracy_score(y_test,preds)\n",
    "    TN, FP, FN, TP = confusion_matrix(y_test,preds,sample_weight=None).ravel()\n",
    "    TPR = TP/(TP+FN) #precision\n",
    "    TNR = TN/(TN+FP) #recall\n",
    "    results.iloc[i,1] = test_accuracy\n",
    "    results.iloc[i,2] = TPR\n",
    "    results.iloc[i,3] = TNR\n",
    "print(results.to_string(header=True))"
   ]
  },
  {
   "cell_type": "code",
   "execution_count": 86,
   "metadata": {},
   "outputs": [
    {
     "name": "stderr",
     "output_type": "stream",
     "text": [
      "C:\\Anaconda3\\lib\\site-packages\\sklearn\\utils\\deprecation.py:87: FutureWarning: Function plot_confusion_matrix is deprecated; Function `plot_confusion_matrix` is deprecated in 1.0 and will be removed in 1.2. Use one of the class methods: ConfusionMatrixDisplay.from_predictions or ConfusionMatrixDisplay.from_estimator.\n",
      "  warnings.warn(msg, category=FutureWarning)\n"
     ]
    },
    {
     "data": {
      "text/plain": [
       "<sklearn.metrics._plot.confusion_matrix.ConfusionMatrixDisplay at 0x26b1694da00>"
      ]
     },
     "execution_count": 86,
     "metadata": {},
     "output_type": "execute_result"
    },
    {
     "data": {
      "image/png": "[encoded data removed]",
      "text/plain": [
       "<Figure size 432x288 with 2 Axes>"
      ]
     },
     "metadata": {
      "needs_background": "light"
     },
     "output_type": "display_data"
    }
   ],
   "source": [
    "plot_confusion_matrix(grid,X_train, y_train,values_format='d' )"
   ]
  },
  {
   "cell_type": "code",
   "execution_count": 87,
   "metadata": {},
   "outputs": [
    {
     "name": "stderr",
     "output_type": "stream",
     "text": [
      "C:\\Anaconda3\\lib\\site-packages\\sklearn\\utils\\deprecation.py:87: FutureWarning: Function plot_confusion_matrix is deprecated; Function `plot_confusion_matrix` is deprecated in 1.0 and will be removed in 1.2. Use one of the class methods: ConfusionMatrixDisplay.from_predictions or ConfusionMatrixDisplay.from_estimator.\n",
      "  warnings.warn(msg, category=FutureWarning)\n"
     ]
    },
    {
     "data": {
      "text/plain": [
       "<sklearn.metrics._plot.confusion_matrix.ConfusionMatrixDisplay at 0x26b16a0b940>"
      ]
     },
     "execution_count": 87,
     "metadata": {},
     "output_type": "execute_result"
    },
    {
     "data": {
      "image/png": "[encoded data removed]",
      "text/plain": [
       "<Figure size 432x288 with 2 Axes>"
      ]
     },
     "metadata": {
      "needs_background": "light"
     },
     "output_type": "display_data"
    }
   ],
   "source": [
    "plot_confusion_matrix(grid,X_test, y_test,values_format='d' )"
   ]
  },
  {
   "cell_type": "markdown",
   "metadata": {},
   "source": [
    "## Decision Tree Classifier"
   ]
  },
  {
   "cell_type": "code",
   "execution_count": 88,
   "metadata": {},
   "outputs": [
    {
     "name": "stdout",
     "output_type": "stream",
     "text": [
      "Best Criterion: gini\n",
      "Best max_depth: 4\n",
      "Best Number Of Components: 14\n",
      "\n",
      "DecisionTreeClassifier(max_depth=4)\n",
      "Accuracy Score for our training dataset with tuning is 0.8237\n"
     ]
    }
   ],
   "source": [
    "# Training Data Set Used For Accuracy Check\n",
    "std_slc = StandardScaler()\n",
    "pca = decomposition.PCA()\n",
    "dec_tree = tree.DecisionTreeClassifier()\n",
    "pipe = Pipeline(steps=[('std_slc', std_slc),\n",
    "('pca', pca),\n",
    "('dec_tree', dec_tree)])\n",
    "n_components = list(range(1,X_train.shape[1]+1,1))\n",
    "criterion = ['gini', 'entropy']\n",
    "max_depth = [2,4,6,8,10,12]\n",
    "parameters = dict(pca__n_components=n_components,\n",
    "dec_tree__criterion=criterion,\n",
    "dec_tree__max_depth=max_depth)\n",
    "clf_GS = GridSearchCV(pipe, parameters, cv=3)\n",
    "grid_search=clf_GS.fit(X_train, y_train.ravel())\n",
    "accuracy = grid_search.best_score_\n",
    "print('Best Criterion:', clf_GS.best_estimator_.get_params()['dec_tree__criterion'])\n",
    "print('Best max_depth:', clf_GS.best_estimator_.get_params()['dec_tree__max_depth'])\n",
    "print('Best Number Of Components:', clf_GS.best_estimator_.get_params()['pca__n_components'])\n",
    "print(); print(clf_GS.best_estimator_.get_params()['dec_tree'])\n",
    "print(\"Accuracy Score for our training dataset with tuning is {:.4f}\".format(accuracy) )"
   ]
  },
  {
   "cell_type": "code",
   "execution_count": 89,
   "metadata": {},
   "outputs": [
    {
     "name": "stdout",
     "output_type": "stream",
     "text": [
      "Performance on Testing Data:\n",
      "Accuracy Score = 0.8857\n",
      "True Positive Rate = 0.8421\n",
      "True Negative Rate = 0.9157\n",
      "AUC = 0.9160\n"
     ]
    }
   ],
   "source": [
    "# Testing Accuracy on Testing Data\n",
    "dec_tree1 = tree.DecisionTreeClassifier(criterion='entropy', max_depth=4)\n",
    "dec_tree1.fit(X_train, y_train.ravel())\n",
    "y_test_hat = dec_tree1.predict(X_test)\n",
    "test_accuracy=accuracy_score(y_test,y_test_hat)\n",
    "TN, FP, FN, TP = confusion_matrix(y_test,y_test_hat,sample_weight=None).ravel()\n",
    "TPR = TP/(TP+FN) #precision\n",
    "TNR = TN/(TN+FP) #recall\n",
    "Q = dec_tree1.predict_proba(X_test)[:,1]\n",
    "fpr, tpr, _ = roc_curve(y_test, Q)\n",
    "roc_auc = auc(fpr,tpr)\n",
    "print(\"Performance on Testing Data:\")\n",
    "print(\"Accuracy Score = {:.4f}\".format(test_accuracy))\n",
    "print(\"True Positive Rate = {:.4f}\".format(TPR))\n",
    "print(\"True Negative Rate = {:.4f}\".format(TNR))\n",
    "print(\"AUC = {:.4f}\".format(roc_auc))\n",
    "testaccuracy.append(test_accuracy)\n",
    "tpr_list.append(TPR)\n",
    "tnr_list.append(TNR)\n",
    "auc_list.append(roc_auc)"
   ]
  },
  {
   "cell_type": "code",
   "execution_count": 90,
   "metadata": {},
   "outputs": [
    {
     "name": "stdout",
     "output_type": "stream",
     "text": [
      "   THRESHOLD  accuracy true positive rate true negative rate\n",
      "0        0.1  0.878571           0.912281           0.855422\n",
      "1        0.2  0.878571           0.912281           0.855422\n",
      "2        0.3  0.878571           0.912281           0.855422\n",
      "3        0.4  0.885714           0.842105           0.915663\n",
      "4        0.5  0.885714           0.842105           0.915663\n",
      "5        0.6  0.885714           0.842105           0.915663\n",
      "6        0.7  0.885714           0.842105           0.915663\n",
      "7        0.8  0.857143           0.719298           0.951807\n",
      "8        0.9       0.8           0.561404           0.963855\n"
     ]
    }
   ],
   "source": [
    "THRESHOLD = [0.1, 0.2, 0.3, 0.4, 0.5, 0.6, 0.7, 0.8, 0.9]\n",
    "results = pd.DataFrame(columns=[\"THRESHOLD\", \"accuracy\", \"true positive rate\", \"true negative rate\"]) # df to store result\n",
    "results['THRESHOLD'] = THRESHOLD # threshold column\n",
    "Q = dec_tree1.predict_proba(X_test)[:,1]\n",
    "for i in range(9): # iterate over each thres\n",
    "    preds = np.where(Q>THRESHOLD[i], 1, 0) # if prob > threshold, predi\n",
    "    test_accuracy = accuracy_score(y_test,preds)\n",
    "    TN, FP, FN, TP = confusion_matrix(y_test,preds,sample_weight=None).ravel()\n",
    "    TPR = TP/(TP+FN) #precision\n",
    "    TNR = TN/(TN+FP) #recall\n",
    "    results.iloc[i,1] = test_accuracy\n",
    "    results.iloc[i,2] = TPR\n",
    "    results.iloc[i,3] = TNR\n",
    "print(results.to_string(header=True))"
   ]
  },
  {
   "cell_type": "code",
   "execution_count": 91,
   "metadata": {},
   "outputs": [
    {
     "name": "stderr",
     "output_type": "stream",
     "text": [
      "C:\\Anaconda3\\lib\\site-packages\\sklearn\\utils\\deprecation.py:87: FutureWarning: Function plot_confusion_matrix is deprecated; Function `plot_confusion_matrix` is deprecated in 1.0 and will be removed in 1.2. Use one of the class methods: ConfusionMatrixDisplay.from_predictions or ConfusionMatrixDisplay.from_estimator.\n",
      "  warnings.warn(msg, category=FutureWarning)\n"
     ]
    },
    {
     "data": {
      "text/plain": [
       "<sklearn.metrics._plot.confusion_matrix.ConfusionMatrixDisplay at 0x26b0e09e430>"
      ]
     },
     "execution_count": 91,
     "metadata": {},
     "output_type": "execute_result"
    },
    {
     "data": {
      "image/png": "[encoded data removed]",
      "text/plain": [
       "<Figure size 432x288 with 2 Axes>"
      ]
     },
     "metadata": {
      "needs_background": "light"
     },
     "output_type": "display_data"
    }
   ],
   "source": [
    "plot_confusion_matrix(clf_GS,X_train, y_train,values_format='d' )"
   ]
  },
  {
   "cell_type": "code",
   "execution_count": 92,
   "metadata": {},
   "outputs": [
    {
     "name": "stderr",
     "output_type": "stream",
     "text": [
      "C:\\Anaconda3\\lib\\site-packages\\sklearn\\utils\\deprecation.py:87: FutureWarning: Function plot_confusion_matrix is deprecated; Function `plot_confusion_matrix` is deprecated in 1.0 and will be removed in 1.2. Use one of the class methods: ConfusionMatrixDisplay.from_predictions or ConfusionMatrixDisplay.from_estimator.\n",
      "  warnings.warn(msg, category=FutureWarning)\n"
     ]
    },
    {
     "data": {
      "text/plain": [
       "<sklearn.metrics._plot.confusion_matrix.ConfusionMatrixDisplay at 0x26b09cd1160>"
      ]
     },
     "execution_count": 92,
     "metadata": {},
     "output_type": "execute_result"
    },
    {
     "data": {
      "image/png": "[encoded data removed]",
      "text/plain": [
       "<Figure size 432x288 with 2 Axes>"
      ]
     },
     "metadata": {
      "needs_background": "light"
     },
     "output_type": "display_data"
    }
   ],
   "source": [
    "plot_confusion_matrix(clf_GS,X_test, y_test,values_format='d' )"
   ]
  },
  {
   "cell_type": "markdown",
   "metadata": {},
   "source": [
    "## Linear Discriminant Analysis"
   ]
  },
  {
   "cell_type": "code",
   "execution_count": 93,
   "metadata": {},
   "outputs": [
    {
     "name": "stdout",
     "output_type": "stream",
     "text": [
      "Best parameter =  svd\n",
      "Performance on Testing Data:\n",
      "Accuracy Score = 0.8714\n",
      "True Positive Rate = 0.8772\n",
      "True Negative Rate = 0.8675\n",
      "AUC = 0.9269\n"
     ]
    }
   ],
   "source": [
    "LDA_param_grid = {'solver' : ['svd','lsqr','eigen']}\n",
    "LDA = LinearDiscriminantAnalysis()\n",
    "clf_LDA = GridSearchCV(LDA, LDA_param_grid, cv=3)\n",
    "clf_LDA.fit(X_train, y_train.ravel())\n",
    "LDA_best_param = clf_LDA.best_estimator_.get_params()['solver']\n",
    "print(\"Best parameter = \",LDA_best_param)\n",
    "LDA = LinearDiscriminantAnalysis(solver=LDA_best_param)\n",
    "LDA.fit(X_train,y_train)\n",
    "y_test_pred = LDA.predict(X_test)\n",
    "test_accuracy = accuracy_score(y_test, y_test_pred)\n",
    "TN, FP, FN, TP = confusion_matrix(y_test,y_test_pred,sample_weight=None).ravel()\n",
    "TPR = TP/(TP+FN) #precision\n",
    "TNR = TN/(TN+FP) #recall\n",
    "Q = LDA.predict_proba(X_test)[:,1]\n",
    "fpr, tpr, _ = roc_curve(y_test, Q)\n",
    "roc_auc = auc(fpr,tpr)\n",
    "print(\"Performance on Testing Data:\")\n",
    "print(\"Accuracy Score = {:.4f}\".format(test_accuracy))\n",
    "print(\"True Positive Rate = {:.4f}\".format(TPR))\n",
    "print(\"True Negative Rate = {:.4f}\".format(TNR))\n",
    "print(\"AUC = {:.4f}\".format(roc_auc))\n",
    "testaccuracy.append(test_accuracy)\n",
    "tpr_list.append(TPR)\n",
    "tnr_list.append(TNR)\n",
    "auc_list.append(roc_auc)"
   ]
  },
  {
   "cell_type": "code",
   "execution_count": 94,
   "metadata": {},
   "outputs": [
    {
     "name": "stdout",
     "output_type": "stream",
     "text": [
      "   THRESHOLD  accuracy true positive rate true negative rate\n",
      "0        0.1  0.864286           0.877193           0.855422\n",
      "1        0.2  0.864286           0.877193           0.855422\n",
      "2        0.3  0.864286           0.877193           0.855422\n",
      "3        0.4  0.871429           0.877193            0.86747\n",
      "4        0.5  0.871429           0.877193            0.86747\n",
      "5        0.6  0.864286           0.859649            0.86747\n",
      "6        0.7  0.864286           0.859649            0.86747\n",
      "7        0.8       0.9           0.859649           0.927711\n",
      "8        0.9  0.864286           0.719298           0.963855\n"
     ]
    }
   ],
   "source": [
    "THRESHOLD = [0.1, 0.2, 0.3, 0.4, 0.5, 0.6, 0.7, 0.8, 0.9]\n",
    "results = pd.DataFrame(columns=[\"THRESHOLD\", \"accuracy\", \"true positive rate\", \"true negative rate\"]) # df to store result\n",
    "results['THRESHOLD'] = THRESHOLD # threshold column\n",
    "Q = LDA.predict_proba(X_test)[:,1]\n",
    "for i in range(9): # iterate over each thres\n",
    "    preds = np.where(Q>THRESHOLD[i], 1, 0) # if prob > threshold, predi\n",
    "    test_accuracy = accuracy_score(y_test,preds)\n",
    "    TN, FP, FN, TP = confusion_matrix(y_test,preds,sample_weight=None).ravel()\n",
    "    TPR = TP/(TP+FN) #precision\n",
    "    TNR = TN/(TN+FP) #recall\n",
    "    results.iloc[i,1] = test_accuracy\n",
    "    results.iloc[i,2] = TPR\n",
    "    results.iloc[i,3] = TNR\n",
    "print(results.to_string(header=True))"
   ]
  },
  {
   "cell_type": "code",
   "execution_count": 95,
   "metadata": {},
   "outputs": [
    {
     "name": "stderr",
     "output_type": "stream",
     "text": [
      "C:\\Anaconda3\\lib\\site-packages\\sklearn\\utils\\deprecation.py:87: FutureWarning: Function plot_confusion_matrix is deprecated; Function `plot_confusion_matrix` is deprecated in 1.0 and will be removed in 1.2. Use one of the class methods: ConfusionMatrixDisplay.from_predictions or ConfusionMatrixDisplay.from_estimator.\n",
      "  warnings.warn(msg, category=FutureWarning)\n"
     ]
    },
    {
     "data": {
      "text/plain": [
       "<sklearn.metrics._plot.confusion_matrix.ConfusionMatrixDisplay at 0x26b09e6c700>"
      ]
     },
     "execution_count": 95,
     "metadata": {},
     "output_type": "execute_result"
    },
    {
     "data": {
      "image/png": "[encoded data removed]",
      "text/plain": [
       "<Figure size 432x288 with 2 Axes>"
      ]
     },
     "metadata": {
      "needs_background": "light"
     },
     "output_type": "display_data"
    }
   ],
   "source": [
    "plot_confusion_matrix(clf_LDA,X_train, y_train,values_format='d')"
   ]
  },
  {
   "cell_type": "code",
   "execution_count": 96,
   "metadata": {},
   "outputs": [
    {
     "name": "stderr",
     "output_type": "stream",
     "text": [
      "C:\\Anaconda3\\lib\\site-packages\\sklearn\\utils\\deprecation.py:87: FutureWarning: Function plot_confusion_matrix is deprecated; Function `plot_confusion_matrix` is deprecated in 1.0 and will be removed in 1.2. Use one of the class methods: ConfusionMatrixDisplay.from_predictions or ConfusionMatrixDisplay.from_estimator.\n",
      "  warnings.warn(msg, category=FutureWarning)\n"
     ]
    },
    {
     "data": {
      "text/plain": [
       "<sklearn.metrics._plot.confusion_matrix.ConfusionMatrixDisplay at 0x26b16f519d0>"
      ]
     },
     "execution_count": 96,
     "metadata": {},
     "output_type": "execute_result"
    },
    {
     "data": {
      "image/png": "[encoded data removed]",
      "text/plain": [
       "<Figure size 432x288 with 2 Axes>"
      ]
     },
     "metadata": {
      "needs_background": "light"
     },
     "output_type": "display_data"
    }
   ],
   "source": [
    "plot_confusion_matrix(clf_LDA,X_test, y_test,values_format='d')"
   ]
  },
  {
   "cell_type": "markdown",
   "metadata": {},
   "source": [
    "## Random Forest"
   ]
  },
  {
   "cell_type": "code",
   "execution_count": 97,
   "metadata": {},
   "outputs": [],
   "source": [
    "# Create the parameter grid based on the results of random search\n",
    "param_grid = {\n",
    "'bootstrap': [True],\n",
    "'max_depth': [80, 90, 100, 110],\n",
    "'max_features': [2, 3],\n",
    "'min_samples_leaf': [3, 4, 5],\n",
    "'min_samples_split': [8, 10, 12],\n",
    "'n_estimators': [100, 200, 300, 1000]\n",
    "}\n",
    "# Create a based model\n",
    "rf = RandomForestClassifier()\n",
    "# Instantiate the grid search model\n",
    "grid_search = GridSearchCV(estimator = rf, param_grid = param_grid, cv = 3, n_jobs = -1, verbose = 2)"
   ]
  },
  {
   "cell_type": "code",
   "execution_count": 98,
   "metadata": {},
   "outputs": [
    {
     "name": "stdout",
     "output_type": "stream",
     "text": [
      "Fitting 3 folds for each of 288 candidates, totalling 864 fits\n",
      "Best Parameters are:-\n",
      " {'bootstrap': True, 'max_depth': 90, 'max_features': 3, 'min_samples_leaf': 4, 'min_samples_split': 12, 'n_estimators': 100}\n"
     ]
    }
   ],
   "source": [
    "# Fit the grid search to the data\n",
    "grid_search.fit(X_train, y_train)\n",
    "print('Best Parameters are:-\\n',grid_search.best_params_)"
   ]
  },
  {
   "cell_type": "code",
   "execution_count": 99,
   "metadata": {},
   "outputs": [
    {
     "name": "stdout",
     "output_type": "stream",
     "text": [
      "Performance on Testing Data:\n",
      "Accuracy Score = 0.8786\n",
      "True Positive Rate = 0.8421\n",
      "True Negative Rate = 0.9036\n",
      "AUC = 0.9326\n"
     ]
    }
   ],
   "source": [
    "best_grid = grid_search.best_estimator_\n",
    "best_grid.fit(X_train,y_train)\n",
    "y_test_pred = best_grid.predict(X_test)\n",
    "test_accuracy = accuracy_score(y_test, y_test_pred)\n",
    "TN, FP, FN, TP = confusion_matrix(y_test,y_test_pred,sample_weight=None).ravel()\n",
    "TPR = TP/(TP+FN) #precision\n",
    "TNR = TN/(TN+FP) #recall\n",
    "Q = best_grid.predict_proba(X_test)[:,1]\n",
    "fpr, tpr, _ = roc_curve(y_test, Q)\n",
    "roc_auc = auc(fpr,tpr)\n",
    "print(\"Performance on Testing Data:\")\n",
    "print(\"Accuracy Score = {:.4f}\".format(test_accuracy))\n",
    "print(\"True Positive Rate = {:.4f}\".format(TPR))\n",
    "print(\"True Negative Rate = {:.4f}\".format(TNR))\n",
    "print(\"AUC = {:.4f}\".format(roc_auc))\n",
    "testaccuracy.append(test_accuracy)\n",
    "tpr_list.append(TPR)\n",
    "tnr_list.append(TNR)\n",
    "auc_list.append(roc_auc)"
   ]
  },
  {
   "cell_type": "code",
   "execution_count": 100,
   "metadata": {},
   "outputs": [
    {
     "name": "stdout",
     "output_type": "stream",
     "text": [
      "   THRESHOLD  accuracy true positive rate true negative rate\n",
      "0        0.1       NaN                NaN                NaN\n",
      "1        0.2       NaN                NaN                NaN\n",
      "2        0.3       NaN                NaN                NaN\n",
      "3        0.4       NaN                NaN                NaN\n",
      "4        0.5       NaN                NaN                NaN\n",
      "5        0.6       NaN                NaN                NaN\n",
      "6        0.7       NaN                NaN                NaN\n",
      "7        0.8       NaN                NaN                NaN\n",
      "8        0.9  0.714286           0.298246                1.0\n"
     ]
    }
   ],
   "source": [
    "THRESHOLD = [0.1, 0.2, 0.3, 0.4, 0.5, 0.6, 0.7, 0.8, 0.9]\n",
    "results = pd.DataFrame(columns=[\"THRESHOLD\", \"accuracy\", \"true positive rate\", \"true negative rate\"]) # df to store result\n",
    "results['THRESHOLD'] = THRESHOLD # threshold column\n",
    "Q = best_grid.predict_proba(X_test)[:,1]\n",
    "for i in range(9): # iterate over each thres\n",
    "    preds = np.where(Q>THRESHOLD[i], 1, 0) # if prob > threshold, predi\n",
    "    test_accuracy = accuracy_score(y_test,preds)\n",
    "    TN, FP, FN, TP = confusion_matrix(y_test,preds,sample_weight=None).ravel()\n",
    "    TPR = TP/(TP+FN) #precision\n",
    "    TNR = TN/(TN+FP) #recall\n",
    "results.iloc[i,1] = test_accuracy\n",
    "results.iloc[i,2] = TPR\n",
    "results.iloc[i,3] = TNR\n",
    "print(results.to_string(header=True))"
   ]
  },
  {
   "cell_type": "code",
   "execution_count": 101,
   "metadata": {},
   "outputs": [
    {
     "name": "stderr",
     "output_type": "stream",
     "text": [
      "C:\\Anaconda3\\lib\\site-packages\\sklearn\\utils\\deprecation.py:87: FutureWarning: Function plot_confusion_matrix is deprecated; Function `plot_confusion_matrix` is deprecated in 1.0 and will be removed in 1.2. Use one of the class methods: ConfusionMatrixDisplay.from_predictions or ConfusionMatrixDisplay.from_estimator.\n",
      "  warnings.warn(msg, category=FutureWarning)\n"
     ]
    },
    {
     "data": {
      "text/plain": [
       "<sklearn.metrics._plot.confusion_matrix.ConfusionMatrixDisplay at 0x26b140c0df0>"
      ]
     },
     "execution_count": 101,
     "metadata": {},
     "output_type": "execute_result"
    },
    {
     "data": {
      "image/png": "[encoded data removed]",
      "text/plain": [
       "<Figure size 432x288 with 2 Axes>"
      ]
     },
     "metadata": {
      "needs_background": "light"
     },
     "output_type": "display_data"
    }
   ],
   "source": [
    "plot_confusion_matrix(best_grid,X_train, y_train,values_format='d' )"
   ]
  },
  {
   "cell_type": "code",
   "execution_count": 102,
   "metadata": {},
   "outputs": [
    {
     "name": "stderr",
     "output_type": "stream",
     "text": [
      "C:\\Anaconda3\\lib\\site-packages\\sklearn\\utils\\deprecation.py:87: FutureWarning: Function plot_confusion_matrix is deprecated; Function `plot_confusion_matrix` is deprecated in 1.0 and will be removed in 1.2. Use one of the class methods: ConfusionMatrixDisplay.from_predictions or ConfusionMatrixDisplay.from_estimator.\n",
      "  warnings.warn(msg, category=FutureWarning)\n"
     ]
    },
    {
     "data": {
      "text/plain": [
       "<sklearn.metrics._plot.confusion_matrix.ConfusionMatrixDisplay at 0x26b1717a430>"
      ]
     },
     "execution_count": 102,
     "metadata": {},
     "output_type": "execute_result"
    },
    {
     "data": {
      "image/png": "[encoded data removed]",
      "text/plain": [
       "<Figure size 432x288 with 2 Axes>"
      ]
     },
     "metadata": {
      "needs_background": "light"
     },
     "output_type": "display_data"
    }
   ],
   "source": [
    "plot_confusion_matrix(best_grid,X_test, y_test,values_format='d' )"
   ]
  },
  {
   "cell_type": "code",
   "execution_count": 105,
   "metadata": {},
   "outputs": [
    {
     "name": "stdout",
     "output_type": "stream",
     "text": [
      "╒════╤══════════════════════════════╤══════════════════╤═══════════════════╤════════════════╤═══════════╕\n",
      "│    │ Model                        │   Accuracy Score │   TPR - Precision │   TNR - Recall │   AUC ROC │\n",
      "╞════╪══════════════════════════════╪══════════════════╪═══════════════════╪════════════════╪═══════════╡\n",
      "│  0 │ Logistic Regression - L2     │           0.8786 │            0.8596 │         0.8916 │    0.9317 │\n",
      "├────┼──────────────────────────────┼──────────────────┼───────────────────┼────────────────┼───────────┤\n",
      "│  1 │ Logistic Regression - L1     │           0.8571 │            0.8596 │         0.8554 │    0.9328 │\n",
      "├────┼──────────────────────────────┼──────────────────┼───────────────────┼────────────────┼───────────┤\n",
      "│  2 │ K-Nearest Neighbors          │           0.8643 │            0.7895 │         0.9157 │    0.9222 │\n",
      "├────┼──────────────────────────────┼──────────────────┼───────────────────┼────────────────┼───────────┤\n",
      "│  3 │ Decision Tree                │           0.8857 │            0.8421 │         0.9157 │    0.916  │\n",
      "├────┼──────────────────────────────┼──────────────────┼───────────────────┼────────────────┼───────────┤\n",
      "│  4 │ Linear Discriminant Analysis │           0.8714 │            0.8772 │         0.8675 │    0.9269 │\n",
      "├────┼──────────────────────────────┼──────────────────┼───────────────────┼────────────────┼───────────┤\n",
      "│  5 │ Random Forest                │           0.8786 │            0.8421 │         0.9036 │    0.9326 │\n",
      "╘════╧══════════════════════════════╧══════════════════╧═══════════════════╧════════════════╧═══════════╛\n"
     ]
    }
   ],
   "source": [
    "models = ['Logistic Regression - L2','Logistic Regression - L1','K-Nearest Neighbors','Decision Tree','Linear Discriminant Analysis', 'Random Forest']\n",
    "df = pd.DataFrame(models)\n",
    "test_acc1 = [ '%.4f' % elem for elem in testaccuracy ]\n",
    "TPR_list1 = [ '%.4f' % elem for elem in tpr_list ]\n",
    "TNR_list1 = [ '%.4f' % elem for elem in tnr_list ]\n",
    "AUC_list1 = [ '%.4f' % elem for elem in auc_list ]\n",
    "df['Accuracy Score'] = test_acc1\n",
    "df['True Positive Rate - Recall'] = TPR_list1\n",
    "df['True Negative Rate - Precision'] = TNR_list1\n",
    "df['AUC ROC'] = AUC_list1\n",
    "headers = ['Model','Accuracy Score', 'TPR - Precision','TNR - Recall','AUC ROC']\n",
    "print(tabulate(df, headers=headers, tablefmt=\"fancy_grid\"))"
   ]
  },
  {
   "cell_type": "code",
   "execution_count": null,
   "metadata": {},
   "outputs": [],
   "source": []
  }
 ],
 "metadata": {
  "kernelspec": {
   "display_name": "Python 3 (ipykernel)",
   "language": "python",
   "name": "python3"
  },
  "language_info": {
   "codemirror_mode": {
    "name": "ipython",
    "version": 3
   },
   "file_extension": ".py",
   "mimetype": "text/x-python",
   "name": "python",
   "nbconvert_exporter": "python",
   "pygments_lexer": "ipython3",
   "version": "3.9.12"
  }
 },
 "nbformat": 4,
 "nbformat_minor": 2
}
