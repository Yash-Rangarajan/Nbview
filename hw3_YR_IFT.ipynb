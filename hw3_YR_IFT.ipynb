{
 "cells": [
  {
   "cell_type": "code",
   "execution_count": null,
   "metadata": {},
   "outputs": [],
   "source": [
    "# loading packages\n",
    "\n",
    "import os\n",
    "import pandas as pd\n",
    "import numpy as np\n",
    "\n",
    "# plotting packages\n",
    "%matplotlib inline\n",
    "from mpl_toolkits.mplot3d import Axes3D\n",
    "import matplotlib.pyplot as plt\n",
    "import matplotlib.cm as cm\n",
    "import matplotlib.colors as clrs\n",
    "import seaborn as sns\n",
    "\n",
    "# Kmeans, aglomerative clustering algorithm and silhouette_score packages from scikit-learn\n",
    "os.environ[\"OMP_NUM_THREADS\"] = '1'\n",
    "from sklearn.cluster import KMeans, AgglomerativeClustering \n",
    "from scipy.cluster.hierarchy import dendrogram, linkage # For Ward's linkage criterion\n",
    "from sklearn.metrics import silhouette_samples,silhouette_score"
   ]
  },
  {
   "cell_type": "markdown",
   "metadata": {},
   "source": [
    "## Load raw data"
   ]
  },
  {
   "cell_type": "code",
   "execution_count": null,
   "metadata": {},
   "outputs": [],
   "source": [
    "# load raw data\n",
    "DATA_FOLDER = './'\n",
    "raw = pd.read_csv(os.path.join(DATA_FOLDER, 'countryriskdata.csv'))\n",
    "\n",
    "# check the raw data\n",
    "print(\"Size of the dataset (row, col): \", raw.shape)\n",
    "print(\"\\nFirst 5 rows\\n\", raw.head(n=5))"
   ]
  },
  {
   "cell_type": "markdown",
   "metadata": {},
   "source": [
    "## Simple exploratory analysis\n",
    "### Print summary statistics\n",
    "You may want to perform more exploratory analysis to determine which features/variables to include in your analysis."
   ]
  },
  {
   "cell_type": "code",
   "execution_count": null,
   "metadata": {},
   "outputs": [],
   "source": [
    "# print summary statistics\n",
    "print(\"\\nSummary statistics\\n\", raw.describe())\n",
    "print(\"\\nCorrelation Matrix\\n\", raw.corr())"
   ]
  },
  {
   "cell_type": "code",
   "execution_count": null,
   "metadata": {},
   "outputs": [],
   "source": [
    "# tests to check for skewness of Data\n",
    "plt.figure(1)\n",
    "raw['Corruption'].plot(kind = 'hist', title = 'Corruption', alpha = 0.5)\n",
    "\n",
    "plt.figure(2)\n",
    "raw['Peace'].plot(kind = 'hist', title = 'Peace', alpha = 0.5)\n",
    "\n",
    "plt.figure(3)\n",
    "raw['Legal'].plot(kind = 'hist', title = 'Legal', alpha = 0.5)\n",
    "\n",
    "plt.figure(4)\n",
    "raw['GDP Growth'].plot(kind = 'hist', title = 'GDP Growth', alpha = 0.5)\n",
    "\n",
    "plt.show()"
   ]
  },
  {
   "cell_type": "code",
   "execution_count": null,
   "metadata": {},
   "outputs": [],
   "source": [
    "df = raw[['Corruption','Peace', 'Legal', 'GDP Growth']]\n",
    "df_normalized  = (df - df.mean())/ df.std()\n",
    "\n",
    "df_normalized.head(5)"
   ]
  },
  {
   "cell_type": "markdown",
   "metadata": {},
   "source": [
    "### Do some pairwise scatter plots using seaborn"
   ]
  },
  {
   "cell_type": "code",
   "execution_count": null,
   "metadata": {},
   "outputs": [],
   "source": [
    "sns.pairplot(df_normalized,vars=df_normalized.columns[0:], diag_kind=\"kde\")\n",
    "df_normalized.columns[0:]"
   ]
  },
  {
   "cell_type": "markdown",
   "metadata": {},
   "source": [
    "## K means cluster\n",
    "The following example forms two clusters using all the features provided.You may consider pre-processing the data, for example, feature selection and transformation. You should also experiment with the number of clusters, and determine how many clusters to form.\n",
    "\n",
    "Ref. [Feature normalization.](https://stats.stackexchange.com/questions/21222/are-mean-normalization-and-feature-scaling-needed-for-k-means-clustering)\n",
    "\n",
    "Ref. [Determining the number of clusters in a dataset.](https://en.wikipedia.org/wiki/Determining_the_number_of_clusters_in_a_data_set)"
   ]
  },
  {
   "cell_type": "markdown",
   "metadata": {},
   "source": [
    "### K means with k=1 to k=11, printing inertia for each # of clusters"
   ]
  },
  {
   "cell_type": "code",
   "execution_count": null,
   "metadata": {},
   "outputs": [],
   "source": [
    "X = df_normalized[['Corruption', 'Peace', 'Legal', 'GDP Growth']]\n",
    "\n",
    "inertia = []\n",
    "\n",
    "# Loop through a range of K values and calculate inertia for each K\n",
    "for k in range(1, 11):\n",
    "    kmeans = KMeans(n_clusters=k) #, random_state=42)\n",
    "    kmeans.fit(X)\n",
    "    inertia.append(kmeans.inertia_)\n",
    "\n",
    "for k in range(0, 10):\n",
    "    print(k+1, inertia[k])\n",
    "\n",
    "    \n",
    "# Plot the inertia values against the number of clusters (K)\n",
    "plt.figure(figsize=(8, 6))\n",
    "plt.plot(range(1, 11), inertia, marker='o', linestyle='--')\n",
    "plt.xlabel('Number of Clusters (K)')\n",
    "plt.ylabel('Inertia')\n",
    "plt.title('Elbow Method for Optimal K')\n",
    "plt.grid()\n",
    "plt.show()"
   ]
  },
  {
   "cell_type": "code",
   "execution_count": null,
   "metadata": {},
   "outputs": [],
   "source": [
    "#Optimal Number of Clusters is 3 using Elbow Method\n",
    "k = 3\n",
    "kmeans = KMeans(n_clusters=k, random_state=0)\n",
    "kmeans.fit(X)\n",
    "\n",
    "# print inertia & cluster center\n",
    "print(\"inertia for k=3 is\", kmeans.inertia_)\n",
    "print(\"cluster centers: \", kmeans.cluster_centers_)\n",
    "\n",
    "# take a quick look at result\n",
    "y = kmeans.labels_\n",
    "centers = kmeans.cluster_centers_\n",
    "print(\"cluster labels: \", y)"
   ]
  },
  {
   "cell_type": "markdown",
   "metadata": {},
   "source": [
    "### Visualize the result"
   ]
  },
  {
   "cell_type": "code",
   "execution_count": null,
   "metadata": {},
   "outputs": [],
   "source": [
    "figs = [(0,1), (0,2), (0,3), (1,2)]\n",
    "labels = ['Corruption', 'Peace', 'Legal', 'GDP Growth']\n",
    "\n",
    "norm = clrs.Normalize(vmin=0,vmax=y.max()+0.8)\n",
    "cmap =cm.viridis\n",
    "for i in range(4):\n",
    "    fig = plt.figure(i)\n",
    "    plt.scatter(X.iloc[:,figs[i][0]], X.iloc[:,figs[i][1]], c = cmap(norm(y)), s =50)\n",
    "    plt.scatter(centers[:,figs[i][0]], centers[:,figs[i][1]], c = 'black', s= 200, alpha = 0.5)\n",
    "    plt.xlabel(labels[figs[i][0]])\n",
    "    plt.ylabel(labels[figs[i][1]])\n",
    "\n",
    "plt.show()"
   ]
  },
  {
   "cell_type": "code",
   "execution_count": null,
   "metadata": {},
   "outputs": [],
   "source": [
    "figs = [(0,1), (0,2), (0,3), (1,2)]\n",
    "labels = ['Corruption', 'Peace', 'Legal', 'GDP Growth']\n",
    "colours = ['green','red','blue']\n",
    "\n",
    "\n",
    "for i in range(4):\n",
    "    fig = plt.figure(i, figsize = (10,10))\n",
    "    fig_1 = figs[i][0]\n",
    "    fig_2 = figs[i][1]\n",
    "    plt.scatter(X.iloc[:,fig_1], X.iloc[:,fig_2], c=y, s=0 , alpha = 0)\n",
    "    plt.scatter(centers[:,fig_2], centers[:,fig_2], c = 'black', s= 200, alpha = 0.5)\n",
    "    for j in range(X.shape[0]):\n",
    "        plt.text(X.iloc[j, fig_1], X.iloc[j, fig_2], raw['Abbrev'].iloc[j], color = colours[y[j]], weight ='semibold' , horizontalalignment='center')\n",
    "                        \n",
    "    plt.xlabel(labels[fig_1])\n",
    "    plt.ylabel(labels[fig_2])                 \n",
    "plt.show()                        "
   ]
  },
  {
   "cell_type": "markdown",
   "metadata": {},
   "source": [
    "### List the result\n",
    "\n",
    "Depending on the number of features you choose, you may also consider presenting your result using graphs."
   ]
  },
  {
   "cell_type": "code",
   "execution_count": null,
   "metadata": {},
   "outputs": [],
   "source": [
    "result = pd.DataFrame({'Country': raw['Country'], 'Abbrev': raw['Abbrev'], 'Label':y})\n",
    "with pd.option_context('display.max_rows', None, 'display.max_columns', 3):\n",
    "    print(result.sort_values('Label'))"
   ]
  },
  {
   "cell_type": "code",
   "execution_count": null,
   "metadata": {},
   "outputs": [],
   "source": [
    "df_normalized[\"cluster\"] = y\n",
    "sns.pairplot(df_normalized,vars=df_normalized.columns[2:-1],hue=\"cluster\")"
   ]
  },
  {
   "cell_type": "code",
   "execution_count": null,
   "metadata": {},
   "outputs": [],
   "source": [
    "# Silhouette Analysis \n",
    "# Initialize list to store silhouette scores\n",
    "silhouette_scores = []\n",
    "\n",
    "# Loop through a range of K values and calculate silhouette score for each K\n",
    "for k in range(2, 11):  # Silhouette score requires at least 2 clusters\n",
    "    kmeans = KMeans(n_clusters=k, random_state=42)\n",
    "    cluster_labels = kmeans.fit_predict(X)\n",
    "    silhouette_avg = silhouette_score(X, cluster_labels)\n",
    "    silhouette_scores.append(silhouette_avg)\n",
    "    print(\"For  # of Clusters :\" , k, \"The Average Silhouette Score is :\" , silhouette_avg)\n",
    "    \n",
    "# Plot silhouette scores against the number of clusters (K)\n",
    "plt.figure(figsize=(8, 6))\n",
    "plt.plot(range(2, 11), silhouette_scores, marker='o', linestyle='--')\n",
    "plt.xlabel('Number of Clusters (K)')\n",
    "plt.ylabel('Silhouette Score')\n",
    "plt.title('Silhouette Analysis for Optimal K')\n",
    "plt.grid()\n",
    "plt.show()"
   ]
  },
  {
   "cell_type": "code",
   "execution_count": null,
   "metadata": {},
   "outputs": [],
   "source": [
    "agg_clustering = AgglomerativeClustering(n_clusters=3, linkage='ward')\n",
    "cluster_labels = agg_clustering.fit_predict(X)\n",
    "\n",
    "# Add the cluster labels to the DataFrame\n",
    "raw['Cluster_agg'] = cluster_labels\n",
    "\n",
    "# Print the countries in each cluster\n",
    "for cluster_id in range(3):  # Adjust the number of clusters as needed\n",
    "    cluster_data = raw[raw['Cluster_agg'] == cluster_id]\n",
    "    print(f\"Cluster {cluster_id + 1}:\")\n",
    "    print(cluster_data[['Country', 'Cluster_agg']])\n",
    "    print()\n",
    "    \n",
    "# Dendrogram for visualization\n",
    "print()\n",
    "linkage_matrix = linkage(X, method='ward')\n",
    "plt.figure(figsize=(14, 6))\n",
    "dendrogram(linkage_matrix, orientation=\"top\",  labels = raw['Country'].to_list())\n",
    "plt.title(\"Dendrogram for Agglomerative Hierarchical Clustering with Ward's Linkage\")\n",
    "plt.xlabel(\"Countries\")\n",
    "plt.ylabel(\"Euclidean Distance\")\n",
    "plt.show()"
   ]
  }
 ],
 "metadata": {
  "kernelspec": {
   "display_name": "Python 3 (ipykernel)",
   "language": "python",
   "name": "python3"
  },
  "language_info": {
   "codemirror_mode": {
    "name": "ipython",
    "version": 3
   },
   "file_extension": ".py",
   "mimetype": "text/x-python",
   "name": "python",
   "nbconvert_exporter": "python",
   "pygments_lexer": "ipython3",
   "version": "3.9.12"
  }
 },
 "nbformat": 4,
 "nbformat_minor": 2
}
